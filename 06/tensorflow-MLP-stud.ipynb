{
 "cells": [
  {
   "cell_type": "markdown",
   "metadata": {},
   "source": [
    "# Group 24\n",
    "* Sebastian Häni <haeniseb@students.zhaw.ch>\n",
    "* Raffael Affolter <affolraf@students.zhaw.ch>\n",
    "* Benjamin Mäder <maedeben@students.zhaw.ch>"
   ]
  },
  {
   "cell_type": "markdown",
   "metadata": {},
   "source": [
    "## MLP with TensorFlow 2.0\n",
    "The objective of the exercise is to implement computational graphs in TensorFlow 2.0 to train and use such an architecture. The constraints we put ourselves is to use **low-level** functions of TensorFlow, i.e. we will not use high-level functions to compose layers and to train the parameters.\n",
    "\n",
    "If you get this error in the execution of the first cell: ` ModuleNotFoundError: No module named 'tensorflow' `, it probably means TensorFlow 2.0 is not installed yet on your machine."
   ]
  },
  {
   "cell_type": "code",
   "execution_count": 5,
   "metadata": {},
   "outputs": [
    {
     "name": "stdout",
     "output_type": "stream",
     "text": [
      "MNIST data set ready. N=60000, D=784, n_classes=10\n"
     ]
    }
   ],
   "source": [
    "#############################\n",
    "# MNIST Dataset Preparation #\n",
    "#############################\n",
    "\n",
    "import numpy as np\n",
    "import tensorflow as tf\n",
    "import matplotlib.pyplot as plt\n",
    "\n",
    "mnist = tf.keras.datasets.mnist\n",
    "(x_train, y_train_vec),(x_test, y_test_vec) = mnist.load_data()\n",
    "x_train, x_test = x_train / 255.0, x_test / 255.0\n",
    "x_train = x_train.reshape(60000, 784)\n",
    "x_test = x_test.reshape(10000, 784)\n",
    "# convert class vectors to binary class matrices\n",
    "y_train = tf.keras.utils.to_categorical(y_train_vec, 10, dtype='float64')\n",
    "y_test = tf.keras.utils.to_categorical(y_test_vec, 10, dtype='float64')\n",
    "N = x_train.shape[0]         # number of samples\n",
    "D = x_train.shape[1]         # dimension of input sample\n",
    "n_classes = y_train.shape[1] # output dim\n",
    "print('MNIST data set ready. N={}, D={}, n_classes={}'.format(N,D,n_classes))"
   ]
  },
  {
   "cell_type": "code",
   "execution_count": 6,
   "metadata": {},
   "outputs": [],
   "source": [
    "# Function to sample a random batch from dataset\n",
    "def next_batch(num, data, labels):\n",
    "    '''\n",
    "    Return a total of `num` random samples and labels. \n",
    "    '''\n",
    "    idx = np.arange(0,len(data))  # create an array of index values\n",
    "    np.random.shuffle(idx)        # shuffle it\n",
    "    idx = idx[:num]               # take the first n indexes = size of batch\n",
    "    data_shuffle = data[idx]      # extract the batch using the random indexes\n",
    "    labels_shuffle = labels[idx]  # extract the labels using the random indexes\n",
    "\n",
    "    return data_shuffle, labels_shuffle"
   ]
  },
  {
   "cell_type": "code",
   "execution_count": 47,
   "metadata": {
    "scrolled": false
   },
   "outputs": [
    {
     "name": "stdout",
     "output_type": "stream",
     "text": [
      "epoch = 0, loss = 57.598444551356366\n",
      "epoch = 1, loss = 41.02711154231459\n",
      "epoch = 2, loss = 38.499862188032516\n",
      "epoch = 3, loss = 36.49331583007044\n",
      "epoch = 4, loss = 34.58815715478235\n",
      "epoch = 5, loss = 32.779080146741805\n",
      "epoch = 6, loss = 31.08604595836327\n",
      "epoch = 7, loss = 29.422267066519282\n",
      "epoch = 8, loss = 28.0085547082279\n",
      "epoch = 9, loss = 26.744049103626413\n",
      "epoch = 10, loss = 25.599256273959973\n",
      "epoch = 11, loss = 24.650117844616993\n",
      "epoch = 12, loss = 23.65740811474678\n",
      "epoch = 13, loss = 22.774116512990773\n",
      "epoch = 14, loss = 22.035966960121467\n",
      "epoch = 15, loss = 21.36298056321549\n",
      "epoch = 16, loss = 20.57745539139201\n",
      "epoch = 17, loss = 20.180491555965588\n",
      "epoch = 18, loss = 19.496152514339414\n",
      "epoch = 19, loss = 19.094305240505467\n",
      "epoch = 20, loss = 18.618794067532708\n",
      "epoch = 21, loss = 18.144034716920928\n",
      "epoch = 22, loss = 17.944000937812593\n",
      "epoch = 23, loss = 17.52812001035628\n",
      "epoch = 24, loss = 17.1962545842441\n",
      "epoch = 25, loss = 16.828485893273854\n",
      "epoch = 26, loss = 16.661732298543097\n",
      "epoch = 27, loss = 16.308460517067736\n",
      "epoch = 28, loss = 16.072166921480797\n",
      "epoch = 29, loss = 15.73238500613521\n",
      "epoch = 30, loss = 15.603448867005431\n",
      "epoch = 31, loss = 15.387225471483085\n",
      "epoch = 32, loss = 15.071401688368574\n",
      "epoch = 33, loss = 14.856982893210306\n",
      "epoch = 34, loss = 14.732524432853042\n",
      "epoch = 35, loss = 14.667674405023238\n",
      "epoch = 36, loss = 14.414325471889494\n",
      "epoch = 37, loss = 14.206276711803396\n",
      "epoch = 38, loss = 14.071455532803\n",
      "epoch = 39, loss = 13.944440478343907\n",
      "epoch = 40, loss = 13.813993744829789\n",
      "epoch = 41, loss = 13.682399918366748\n",
      "epoch = 42, loss = 13.618974844666601\n",
      "epoch = 43, loss = 13.319497211373053\n",
      "epoch = 44, loss = 13.347164271475155\n",
      "epoch = 45, loss = 13.213787405604155\n",
      "epoch = 46, loss = 13.044995342163448\n",
      "epoch = 47, loss = 12.876124574906472\n",
      "epoch = 48, loss = 12.836968350066098\n",
      "epoch = 49, loss = 12.75383303479792\n"
     ]
    }
   ],
   "source": [
    "##################\n",
    "# Training phase #\n",
    "##################\n",
    "\n",
    "E = 50                # number of epochs\n",
    "B = 128               # batch size\n",
    "N = x_train.shape[0]  # number of samples\n",
    "D = x_train.shape[1]  # dimension of input sample\n",
    "H = 300               # number of neurons\n",
    "A = 0.01              # learning rate alpha\n",
    "\n",
    "##############################################\n",
    "#  COMPLETE CODE BELOW WHERE YOU SEE # ...   #\n",
    "##############################################\n",
    "\n",
    "# Build the computational graph\n",
    "@tf.function # this decorator tells tf that a graph is defined\n",
    "def mlp_train(x, y, alpha):\n",
    "    # define nodes for forward computation for hidden neurons h and output neurons y_pred\n",
    "    h = tf.nn.relu(tf.add(tf.matmul(x, w1, name='h_matmul'), b1, name='h_add'), name='h_max') # output of first layer after ReLu activation\n",
    "    y_pred = tf.sigmoid(tf.add(tf.matmul(h, w2, name='pred_matmul'), b2, name='pred_add'), name='pred_sigmoid') # output of second layer after sigmoid activation\n",
    "    # define nodes for forward computation for hidden neurons h and output neurons y_pred\n",
    "    diff = y_pred - y\n",
    "    loss = tf.reduce_mean(tf.pow(diff, 2))\n",
    "    # define the gradients\n",
    "    grad_w1, grad_b1, grad_w2, grad_b2 = tf.gradients(ys=loss, xs=[w1, b1, w2, b2])\n",
    "    # compute the new values of the gradients with the assign method (see slides)\n",
    "    w1.assign(w1 - alpha * grad_w1)\n",
    "    b1.assign(b1 - alpha * grad_b1)\n",
    "    w2.assign(w2 - alpha * grad_w2)\n",
    "    b2.assign(b2 - alpha * grad_b2)\n",
    "    return y_pred, loss\n",
    "\n",
    "# Init the tf.Variables w1, b1, w2, b2 following the given examples\n",
    "w1 = tf.Variable(tf.random.truncated_normal((D, H), stddev=0.1, dtype='float64'))\n",
    "b1 = tf.Variable(tf.constant(0.0, shape=[H], dtype='float64'))\n",
    "w2 = tf.Variable(tf.random.truncated_normal((H, n_classes), stddev=0.1, dtype='float64'))\n",
    "b2 = tf.Variable(tf.constant(0.0, shape=[n_classes], dtype='float64'))\n",
    "\n",
    "# Run the computational graph\n",
    "J = []  # to store the evolution of loss J for each epoch\n",
    "                 \n",
    "for epoch in range(E):\n",
    "    J_epoch = 0.0\n",
    "    for _ in range(int(N/B)): # number of batches to visit for 1 epoch\n",
    "        # get batches calling the next_batch method provided above\n",
    "        x_train_batch, y_train_batch = next_batch(B, x_train, y_train)\n",
    "        with tf.device('/CPU:0'):  # change to /GPU:0 to move it to GPU\n",
    "            # call the graph with the batched input, target and alpha A\n",
    "            out = mlp_train(x_train_batch, y_train_batch, A)\n",
    "        y_pred, loss_val = out\n",
    "        J_epoch += loss_val\n",
    "    J.append(J_epoch)\n",
    "    print(\"epoch = {}, loss = {}\".format(epoch, J_epoch))"
   ]
  },
  {
   "cell_type": "code",
   "execution_count": 26,
   "metadata": {},
   "outputs": [
    {
     "data": {
      "text/plain": [
       "[<matplotlib.lines.Line2D at 0x655e29470>]"
      ]
     },
     "execution_count": 26,
     "metadata": {},
     "output_type": "execute_result"
    },
    {
     "data": {
      "image/png": "[encoded data removed]",
      "text/plain": [
       "<Figure size 432x288 with 1 Axes>"
      ]
     },
     "metadata": {
      "needs_background": "light"
     },
     "output_type": "display_data"
    }
   ],
   "source": [
    "# Plot the evolution of the loss\n",
    "plt.plot(J)"
   ]
  },
  {
   "cell_type": "code",
   "execution_count": 27,
   "metadata": {},
   "outputs": [
    {
     "name": "stdout",
     "output_type": "stream",
     "text": [
      "Forward pass on test set done.\n"
     ]
    }
   ],
   "source": [
    "#################\n",
    "# Testing phase #\n",
    "#################\n",
    "\n",
    "N = x_test.shape[0]  # number of samples\n",
    "D = x_test.shape[1]  # dimension of input sample\n",
    "\n",
    "##############################################\n",
    "#  COMPLETE CODE BELOW WHERE YOU SEE # ...   #\n",
    "##############################################\n",
    "# Build the computational graph\n",
    "@tf.function # this decorator tells tf that a graph is defined\n",
    "def mlp_test(x, y):\n",
    "    h = tf.nn.relu(tf.add(tf.matmul(x, w1, name='h_matmul'), b1, name='h_add'), name='h_max') # output of first layer after ReLu activation\n",
    "    y_pred = tf.sigmoid(tf.add(tf.matmul(h, w2, name='pred_matmul'), b2, name='pred_add'), name='pred_sigmoid') # output of second layer after sigmoid activation\n",
    "    return y_pred\n",
    "\n",
    "# Run the computational graph\n",
    "with tf.device('/CPU:0'):  # change to /GPU:0 to move it to GPU\n",
    "    y_pred_test = mlp_test(x_test, y_test)\n",
    "\n",
    "print('Forward pass on test set done.')\n",
    "# At this stage, y_pred_test should contain the matrix of outputs on the test set with shape (N_test, 10)"
   ]
  },
  {
   "cell_type": "code",
   "execution_count": 28,
   "metadata": {
    "scrolled": true
   },
   "outputs": [
    {
     "name": "stdout",
     "output_type": "stream",
     "text": [
      "# samples  :  10000\n",
      "# correct  :  8779\n",
      "# missed   :  1221\n",
      "accuracy   :  87.79 %\n",
      "error rate :  12.21 %\n"
     ]
    }
   ],
   "source": [
    "# compute accuracy\n",
    "y_winner = np.argmax(y_pred_test, axis=1)\n",
    "N_test = y_winner.size\n",
    "num_correct = (y_winner == y_test_vec).sum()\n",
    "num_missed = N_test - num_correct\n",
    "accuracy = num_correct * 1.0 / N_test\n",
    "error_rate = num_missed * 1.0 / N_test\n",
    "print('# samples  : ', N_test)\n",
    "print('# correct  : ', num_correct)\n",
    "print('# missed   : ', num_missed)\n",
    "print('accuracy   :  %2.2f %%'% (accuracy*100.0))\n",
    "print('error rate :  %2.2f %%'% (error_rate*100.0))"
   ]
  },
  {
   "cell_type": "markdown",
   "metadata": {},
   "source": [
    "# Using Keras"
   ]
  },
  {
   "cell_type": "code",
   "execution_count": 39,
   "metadata": {},
   "outputs": [
    {
     "name": "stdout",
     "output_type": "stream",
     "text": [
      "Model: \"sequential_6\"\n",
      "_________________________________________________________________\n",
      "Layer (type)                 Output Shape              Param #   \n",
      "=================================================================\n",
      "dense_10 (Dense)             (None, 300)               235500    \n",
      "_________________________________________________________________\n",
      "activation (Activation)      (None, 300)               0         \n",
      "_________________________________________________________________\n",
      "dense_11 (Dense)             (None, 10)                3010      \n",
      "_________________________________________________________________\n",
      "activation_1 (Activation)    (None, 10)                0         \n",
      "=================================================================\n",
      "Total params: 238,510\n",
      "Trainable params: 238,510\n",
      "Non-trainable params: 0\n",
      "_________________________________________________________________\n",
      "Train on 60000 samples\n",
      "Epoch 1/40\n",
      "60000/60000 [==============================] - 5s 87us/sample - loss: 0.0275 - accuracy: 0.8618\n",
      "Epoch 2/40\n",
      "60000/60000 [==============================] - 5s 80us/sample - loss: 0.0148 - accuracy: 0.9218\n",
      "Epoch 3/40\n",
      "60000/60000 [==============================] - 5s 85us/sample - loss: 0.0120 - accuracy: 0.9357\n",
      "Epoch 4/40\n",
      "60000/60000 [==============================] - 5s 82us/sample - loss: 0.0103 - accuracy: 0.9449\n",
      "Epoch 5/40\n",
      "60000/60000 [==============================] - 5s 81us/sample - loss: 0.0091 - accuracy: 0.9514\n",
      "Epoch 6/40\n",
      "60000/60000 [==============================] - 4s 74us/sample - loss: 0.0082 - accuracy: 0.9564s - loss: 0.0083 - \n",
      "Epoch 7/40\n",
      "60000/60000 [==============================] - 4s 75us/sample - loss: 0.0075 - accuracy: 0.9602\n",
      "Epoch 8/40\n",
      "60000/60000 [==============================] - 5s 76us/sample - loss: 0.0070 - accuracy: 0.9642\n",
      "Epoch 9/40\n",
      "60000/60000 [==============================] - 4s 74us/sample - loss: 0.0065 - accuracy: 0.9666\n",
      "Epoch 10/40\n",
      "60000/60000 [==============================] - 5s 83us/sample - loss: 0.0061 - accuracy: 0.9689\n",
      "Epoch 11/40\n",
      "60000/60000 [==============================] - 5s 85us/sample - loss: 0.0057 - accuracy: 0.9709\n",
      "Epoch 12/40\n",
      "60000/60000 [==============================] - 5s 82us/sample - loss: 0.0054 - accuracy: 0.9727\n",
      "Epoch 13/40\n",
      "60000/60000 [==============================] - 5s 83us/sample - loss: 0.0051 - accuracy: 0.9746\n",
      "Epoch 14/40\n",
      "60000/60000 [==============================] - 5s 85us/sample - loss: 0.0049 - accuracy: 0.9757\n",
      "Epoch 15/40\n",
      "60000/60000 [==============================] - 5s 85us/sample - loss: 0.0047 - accuracy: 0.9769\n",
      "Epoch 16/40\n",
      "60000/60000 [==============================] - 5s 88us/sample - loss: 0.0045 - accuracy: 0.9783\n",
      "Epoch 17/40\n",
      "60000/60000 [==============================] - 5s 81us/sample - loss: 0.0043 - accuracy: 0.9790\n",
      "Epoch 18/40\n",
      "60000/60000 [==============================] - 5s 81us/sample - loss: 0.0041 - accuracy: 0.9800\n",
      "Epoch 19/40\n",
      "60000/60000 [==============================] - 5s 82us/sample - loss: 0.0039 - accuracy: 0.9809\n",
      "Epoch 20/40\n",
      "60000/60000 [==============================] - 5s 76us/sample - loss: 0.0038 - accuracy: 0.9821\n",
      "Epoch 21/40\n",
      "60000/60000 [==============================] - 4s 72us/sample - loss: 0.0037 - accuracy: 0.9828\n",
      "Epoch 22/40\n",
      "60000/60000 [==============================] - 4s 73us/sample - loss: 0.0035 - accuracy: 0.9834\n",
      "Epoch 23/40\n",
      "60000/60000 [==============================] - 4s 72us/sample - loss: 0.0034 - accuracy: 0.9840\n",
      "Epoch 24/40\n",
      "60000/60000 [==============================] - 4s 72us/sample - loss: 0.0033 - accuracy: 0.9845\n",
      "Epoch 25/40\n",
      "60000/60000 [==============================] - 4s 75us/sample - loss: 0.0032 - accuracy: 0.9850\n",
      "Epoch 26/40\n",
      "60000/60000 [==============================] - 5s 83us/sample - loss: 0.0031 - accuracy: 0.9853\n",
      "Epoch 27/40\n",
      "60000/60000 [==============================] - 5s 81us/sample - loss: 0.0030 - accuracy: 0.9859\n",
      "Epoch 28/40\n",
      "60000/60000 [==============================] - 5s 86us/sample - loss: 0.0029 - accuracy: 0.9865\n",
      "Epoch 29/40\n",
      "60000/60000 [==============================] - 5s 82us/sample - loss: 0.0028 - accuracy: 0.9871\n",
      "Epoch 30/40\n",
      "60000/60000 [==============================] - 5s 84us/sample - loss: 0.0028 - accuracy: 0.9872\n",
      "Epoch 31/40\n",
      "60000/60000 [==============================] - 5s 84us/sample - loss: 0.0027 - accuracy: 0.9879\n",
      "Epoch 32/40\n",
      "60000/60000 [==============================] - 5s 84us/sample - loss: 0.0026 - accuracy: 0.9881\n",
      "Epoch 33/40\n",
      "60000/60000 [==============================] - 5s 81us/sample - loss: 0.0025 - accuracy: 0.9888\n",
      "Epoch 34/40\n",
      "60000/60000 [==============================] - 5s 82us/sample - loss: 0.0025 - accuracy: 0.9888\n",
      "Epoch 35/40\n",
      "60000/60000 [==============================] - 5s 81us/sample - loss: 0.0024 - accuracy: 0.9891\n",
      "Epoch 36/40\n",
      "60000/60000 [==============================] - 5s 81us/sample - loss: 0.0023 - accuracy: 0.9895\n",
      "Epoch 37/40\n",
      "60000/60000 [==============================] - 5s 82us/sample - loss: 0.0023 - accuracy: 0.9895\n",
      "Epoch 38/40\n",
      "60000/60000 [==============================] - 5s 81us/sample - loss: 0.0022 - accuracy: 0.9901\n",
      "Epoch 39/40\n",
      "60000/60000 [==============================] - 5s 89us/sample - loss: 0.0022 - accuracy: 0.9902\n",
      "Epoch 40/40\n",
      "60000/60000 [==============================] - 5s 88us/sample - loss: 0.0021 - accuracy: 0.9906\n",
      "10000/1 - 0s - loss: 0.0019 - accuracy: 0.9808\n"
     ]
    },
    {
     "data": {
      "text/plain": [
       "[0.0037546340467459233, 0.9808]"
      ]
     },
     "execution_count": 39,
     "metadata": {},
     "output_type": "execute_result"
    }
   ],
   "source": [
    "from tensorflow.keras.models import Sequential\n",
    "from tensorflow.keras.layers import Dense, Activation \n",
    "\n",
    "model = Sequential([\n",
    "    Dense(H, input_shape=(D,)),\n",
    "    Activation('relu'),\n",
    "    Dense(n_classes),\n",
    "    Activation('sigmoid'),\n",
    "])\n",
    "\n",
    "model.summary()\n",
    "\n",
    "sgd = tf.keras.optimizers.SGD(learning_rate=0.5)\n",
    "\n",
    "model.compile(optimizer=sgd, loss='mse', metrics=['accuracy'])\n",
    "\n",
    "history1 = model.fit(x_train, y_train, epochs=40)\n",
    "\n",
    "model.evaluate(x_test, y_test, verbose=2)"
   ]
  },
  {
   "cell_type": "code",
   "execution_count": 46,
   "metadata": {},
   "outputs": [
    {
     "data": {
      "image/png": "[encoded data removed]",
      "text/plain": [
       "<Figure size 432x288 with 1 Axes>"
      ]
     },
     "metadata": {
      "needs_background": "light"
     },
     "output_type": "display_data"
    },
    {
     "data": {
      "image/png": "[encoded data removed]",
      "text/plain": [
       "<Figure size 432x288 with 1 Axes>"
      ]
     },
     "metadata": {
      "needs_background": "light"
     },
     "output_type": "display_data"
    }
   ],
   "source": [
    "plt.plot(history1.history['accuracy'])\n",
    "plt.title('Model accuracy')\n",
    "plt.show()\n",
    "\n",
    "plt.plot(history1.history['loss'])\n",
    "plt.title('Model loss')\n",
    "plt.show()"
   ]
  },
  {
   "cell_type": "markdown",
   "metadata": {},
   "source": [
    "The Keras model is quite a large bit better in accuracy / loss. \n",
    "\n",
    "In terms of CPU used to train, it's quite similar. I could not train on a GPU sadly."
   ]
  }
 ],
 "metadata": {
  "kernelspec": {
   "display_name": "Python 3",
   "language": "python",
   "name": "python3"
  },
  "language_info": {
   "codemirror_mode": {
    "name": "ipython",
    "version": 3
   },
   "file_extension": ".py",
   "mimetype": "text/x-python",
   "name": "python",
   "nbconvert_exporter": "python",
   "pygments_lexer": "ipython3",
   "version": "3.7.3"
  }
 },
 "nbformat": 4,
 "nbformat_minor": 2
}
