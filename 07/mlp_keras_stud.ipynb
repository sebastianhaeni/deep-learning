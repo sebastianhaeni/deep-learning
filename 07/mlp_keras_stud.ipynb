{
 "cells": [
  {
   "cell_type": "code",
   "execution_count": null,
   "metadata": {},
   "outputs": [],
   "source": [
    "import tensorflow as tf\n",
    "import datetime\n",
    "import os"
   ]
  },
  {
   "cell_type": "code",
   "execution_count": null,
   "metadata": {},
   "outputs": [],
   "source": [
    "mnist = tf.keras.datasets.mnist\n",
    "(x_train, y_train),(x_test, y_test) = mnist.load_data()\n",
    "x_train, x_test = x_train / 255.0, x_test / 255.0"
   ]
  },
  {
   "cell_type": "code",
   "execution_count": null,
   "metadata": {},
   "outputs": [],
   "source": [
    "def create_model(layersizes, drop_rate=0.0):\n",
    "    \"\"\"\n",
    "    Provides an MLP model (using Sequential) with given layersizes. The last layer is a softmax layer.\n",
    "    Add for the hidden layer a dropout layer. Make sure that the dropout layer is applied after the affiine transformation and before the activation function.\n",
    "    As activation function use sigmoid.\n",
    "        \n",
    "    Arguments:\n",
    "    layersizes -- list of integers with the number of hidden units per layer. The last element is for MNIST 10.\n",
    "    drop_rate -- the drop rate for dropout\n",
    "    \n",
    "    \"\"\"\n",
    "    ### START YOUR CODE HERE ###\n",
    "\n",
    "    model = tf.keras.models.Sequential([\n",
    "        tf.keras.layers.Flatten(input_shape=(28, 28)),\n",
    "        tf.keras.layers.Dense(layersizes[0], activation='relu'),\n",
    "        tf.keras.layers.Dense(layersizes[1], activation='relu'),\n",
    "        tf.keras.layers.Dense(layersizes[2], activation='relu'),\n",
    "        tf.keras.layers.Dense(layersizes[3], activation='softmax')\n",
    "    ])\n",
    "\n",
    "    ### STOP YOUR CODE HERE ###\n",
    "\n",
    "    return model"
   ]
  },
  {
   "cell_type": "code",
   "execution_count": null,
   "metadata": {},
   "outputs": [],
   "source": [
    "### START YOUR CODE HERE ###\n",
    "\n",
    "layersizes = [50,50,50,10]\n",
    "\n",
    "epochs = 20\n",
    "batchsize = 100\n",
    "lr = 0.1\n",
    "drop_rate = 0.0\n",
    "run_name = \"Baseline\"\n",
    "\n",
    "\n",
    "### STOP YOUR CODE HERE ###\n",
    "\n",
    "tensorboard_folder = \"tb_logs_keras\"\n",
    "current_time = datetime.datetime.now().strftime(\"%Y%m%d-%H%M%S\")\n",
    "outdir = os.path.join(os.getcwd(), tensorboard_folder, current_time, run_name)\n",
    "tensorboard_callback = tf.keras.callbacks.TensorBoard(log_dir=outdir, histogram_freq=1, profile_batch=0)\n",
    "\n",
    "\n",
    "model = create_model(layersizes, drop_rate)    \n",
    "model.compile(optimizer=\"sgd\", learning_rate=lr, loss='sparse_categorical_crossentropy', metrics=['accuracy'])\n",
    "model.fit(x=x_train, y=y_train, epochs=epochs, batch_size=batchsize,\n",
    "          validation_data=(x_test, y_test), callbacks=[tensorboard_callback])\n"
   ]
  }
 ],
 "metadata": {
  "kernelspec": {
   "display_name": "Python 3",
   "language": "python",
   "name": "python3"
  },
  "language_info": {
   "codemirror_mode": {
    "name": "ipython",
    "version": 3
   },
   "file_extension": ".py",
   "mimetype": "text/x-python",
   "name": "python",
   "nbconvert_exporter": "python",
   "pygments_lexer": "ipython3",
   "version": "3.7.3"
  }
 },
 "nbformat": 4,
 "nbformat_minor": 4
}
