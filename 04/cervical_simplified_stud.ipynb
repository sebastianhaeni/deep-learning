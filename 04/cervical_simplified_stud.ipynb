{
 "cells": [
  {
   "cell_type": "markdown",
   "metadata": {},
   "source": [
    "*This notebook has been built from this one:* https://www.kaggle.com/randyrose2017/for-beginners-using-keras-to-build-models"
   ]
  },
  {
   "cell_type": "code",
   "execution_count": null,
   "metadata": {
    "_cell_guid": "1100ef71-07a6-42ed-a16c-7fee7a770823",
    "_uuid": "231771e706b20550b5acfc551d08a3119bc29d39"
   },
   "outputs": [],
   "source": [
    "import numpy as np # linear algebra\n",
    "import pandas as pd # data processing, CSV file I/O (e.g. pd.read_csv)\n",
    "from subprocess import check_output\n",
    "import matplotlib.pyplot as plt\n",
    "import seaborn as sns\n",
    "sns.set_style('darkgrid')\n",
    "from scipy.stats import norm\n",
    "from sklearn.preprocessing import StandardScaler\n",
    "from scipy import stats\n",
    "import warnings\n",
    "warnings.filterwarnings('ignore')\n",
    "%matplotlib inline\n",
    "\n",
    "print(check_output([\"ls\", \"kag_risk_factors_cervical_cancer.csv\"]).decode(\"utf8\"))\n",
    "# make sure you have the csv file in the same dir as the one of this notebook"
   ]
  },
  {
   "cell_type": "markdown",
   "metadata": {
    "_cell_guid": "cf50e40e-c23e-4eaf-b9d0-8da813b742ca",
    "_uuid": "ca9c31de83e0d49582f98a3935ddab01af51dffd"
   },
   "source": [
    "# 1. Data observation"
   ]
  },
  {
   "cell_type": "markdown",
   "metadata": {
    "_cell_guid": "64c22b02-188b-4339-94fc-d3d12e542cea",
    "_uuid": "5f731266a089dff368ad956d3a36779d4d483365"
   },
   "source": [
    "Here **observation** means to see the type and structure of the data or whether there are missing values. Let's import the data."
   ]
  },
  {
   "cell_type": "code",
   "execution_count": null,
   "metadata": {
    "_cell_guid": "0d4c6da7-6c54-463b-bb37-442b059fc749",
    "_uuid": "b5cb0b4f19b96b1671e47d4654f0ec026050198b"
   },
   "outputs": [],
   "source": [
    "df_full = pd.read_csv('kag_risk_factors_cervical_cancer.csv')\n",
    "df_full"
   ]
  },
  {
   "cell_type": "code",
   "execution_count": null,
   "metadata": {
    "_cell_guid": "10de01f5-ef94-456f-a45d-f734307d5986",
    "_uuid": "ed5d7974e508e623fcec30de2ca8d7a665046fdc"
   },
   "outputs": [],
   "source": [
    "df_full.info()"
   ]
  },
  {
   "cell_type": "markdown",
   "metadata": {
    "_cell_guid": "fc3da2fe-1d2b-46a8-9e8c-9e28bbf18f58",
    "_uuid": "e99ff56ff26523d6a07468501cd0257a7211189a"
   },
   "source": [
    "It seems there are some missing values named as '?', and made the whole column become an object. \n",
    "To do further computation, we have to replace '?' with NaN and turn the object type to numeric type."
   ]
  },
  {
   "cell_type": "code",
   "execution_count": null,
   "metadata": {
    "_cell_guid": "8fdd875c-e614-452d-b482-5cf0c5139860",
    "_uuid": "2b3201c2e44c5bcb737f2cbcc859545df7e4d6e8"
   },
   "outputs": [],
   "source": [
    "df_fullna = df_full.replace('?', np.nan)"
   ]
  },
  {
   "cell_type": "code",
   "execution_count": null,
   "metadata": {
    "_cell_guid": "625a5282-944a-4cff-ad4d-978f77be97f0",
    "_uuid": "e68e8ddad5521d291300610345a0bd888bf2afd3"
   },
   "outputs": [],
   "source": [
    "df_fullna.isnull().sum() #check NaN counts in different columns"
   ]
  },
  {
   "cell_type": "markdown",
   "metadata": {
    "_cell_guid": "6551edbc-b680-4c7b-9d45-a838b040fbd5",
    "_uuid": "c8d9a63d5ef285e531c62dce6341e069b83ef2c4"
   },
   "source": [
    "# 2. Data-preprocessing"
   ]
  },
  {
   "cell_type": "code",
   "execution_count": null,
   "metadata": {
    "_cell_guid": "8c8b1b8c-658b-4b4b-81bd-ab172f8ae38a",
    "_uuid": "ce1f19dc3914b2fe9d1125b753ff23aad0304532"
   },
   "outputs": [],
   "source": [
    "df = df_fullna  #making temporary save\n",
    "df = df.convert_objects(convert_numeric=True) #turn data into numeric type for computation\n",
    "df.info() # Now it's all numeric type, and we are ready for computation and fill NaN."
   ]
  },
  {
   "cell_type": "code",
   "execution_count": null,
   "metadata": {
    "_cell_guid": "6427ab31-cec1-493c-992b-e3b112e799c5",
    "_uuid": "f41e32a6733da78366aa6bf0e630c47c943923d5"
   },
   "outputs": [],
   "source": []
  },
  {
   "cell_type": "markdown",
   "metadata": {
    "_cell_guid": "fe5fd0f0-ee3c-46df-bc9c-c8f9159ab88d",
    "_uuid": "91c28b7aa00a103648260fd4161b2ce053b47e42"
   },
   "source": [
    "Now It's time to fill all the NaN values. <br/>\n",
    "For continuous variable, it is recommended to fill with the median value.\n",
    "For categorical variable, we fill with 1."
   ]
  },
  {
   "cell_type": "code",
   "execution_count": null,
   "metadata": {
    "_cell_guid": "5d92d496-700e-4832-99ae-45dc485c8271",
    "_uuid": "f2cd15edece592f4de38be3ad7e87747c218536a"
   },
   "outputs": [],
   "source": [
    "# for continuous variable\n",
    "df['Number of sexual partners'] = df['Number of sexual partners'].fillna(df['Number of sexual partners'].median())\n",
    "df['First sexual intercourse'] = df['First sexual intercourse'].fillna(df['First sexual intercourse'].median())\n",
    "df['Num of pregnancies'] = df['Num of pregnancies'].fillna(df['Num of pregnancies'].median())\n",
    "df['Smokes'] = df['Smokes'].fillna(1)\n",
    "df['Smokes (years)'] = df['Smokes (years)'].fillna(df['Smokes (years)'].median())\n",
    "df['Smokes (packs/year)'] = df['Smokes (packs/year)'].fillna(df['Smokes (packs/year)'].median())\n",
    "df['Hormonal Contraceptives'] = df['Hormonal Contraceptives'].fillna(1)\n",
    "df['Hormonal Contraceptives (years)'] = df['Hormonal Contraceptives (years)'].fillna(df['Hormonal Contraceptives (years)'].median())\n",
    "df['IUD'] = df['IUD'].fillna(0) # Under suggestion\n",
    "df['IUD (years)'] = df['IUD (years)'].fillna(0) #Under suggestion\n",
    "df['STDs'] = df['STDs'].fillna(1)\n",
    "df['STDs (number)'] = df['STDs (number)'].fillna(df['STDs (number)'].median())\n",
    "df['STDs:condylomatosis'] = df['STDs:condylomatosis'].fillna(df['STDs:condylomatosis'].median())\n",
    "df['STDs:cervical condylomatosis'] = df['STDs:cervical condylomatosis'].fillna(df['STDs:cervical condylomatosis'].median())\n",
    "df['STDs:vaginal condylomatosis'] = df['STDs:vaginal condylomatosis'].fillna(df['STDs:vaginal condylomatosis'].median())\n",
    "df['STDs:vulvo-perineal condylomatosis'] = df['STDs:vulvo-perineal condylomatosis'].fillna(df['STDs:vulvo-perineal condylomatosis'].median())\n",
    "df['STDs:syphilis'] = df['STDs:syphilis'].fillna(df['STDs:syphilis'].median())\n",
    "df['STDs:pelvic inflammatory disease'] = df['STDs:pelvic inflammatory disease'].fillna(df['STDs:pelvic inflammatory disease'].median())\n",
    "df['STDs:genital herpes'] = df['STDs:genital herpes'].fillna(df['STDs:genital herpes'].median())\n",
    "df['STDs:molluscum contagiosum'] = df['STDs:molluscum contagiosum'].fillna(df['STDs:molluscum contagiosum'].median())\n",
    "df['STDs:AIDS'] = df['STDs:AIDS'].fillna(df['STDs:AIDS'].median())\n",
    "df['STDs:HIV'] = df['STDs:HIV'].fillna(df['STDs:HIV'].median())\n",
    "df['STDs:Hepatitis B'] = df['STDs:Hepatitis B'].fillna(df['STDs:Hepatitis B'].median())\n",
    "df['STDs:HPV'] = df['STDs:HPV'].fillna(df['STDs:HPV'].median())\n",
    "df['STDs: Time since first diagnosis'] = df['STDs: Time since first diagnosis'].fillna(df['STDs: Time since first diagnosis'].median())\n",
    "df['STDs: Time since last diagnosis'] = df['STDs: Time since last diagnosis'].fillna(df['STDs: Time since last diagnosis'].median())"
   ]
  },
  {
   "cell_type": "code",
   "execution_count": null,
   "metadata": {
    "_cell_guid": "4a524b14-0c16-4953-83ab-a2feeb1c1a6b",
    "_uuid": "ca519a78fb3a6b8afdbb362dc091dfb9d782d63b"
   },
   "outputs": [],
   "source": [
    "# for categorical variable\n",
    "df = pd.get_dummies(data=df, columns=['Smokes','Hormonal Contraceptives','IUD','STDs',\n",
    "                                      'Dx:Cancer','Dx:CIN','Dx:HPV','Dx','Hinselmann','Citology','Schiller'])"
   ]
  },
  {
   "cell_type": "code",
   "execution_count": null,
   "metadata": {
    "_cell_guid": "b2c7f913-2bd0-42e5-94ac-56a47a034028",
    "_uuid": "44a8394109c4150c3995703780284b36e1b79698"
   },
   "outputs": [],
   "source": [
    "df.isnull().sum() #No null left~"
   ]
  },
  {
   "cell_type": "code",
   "execution_count": null,
   "metadata": {
    "_cell_guid": "cdee662a-3738-4b26-a3c0-1a1d692133c2",
    "_uuid": "62b55bca85e01695013fda1b1e02c55d9688d424"
   },
   "outputs": [],
   "source": [
    "df "
   ]
  },
  {
   "cell_type": "markdown",
   "metadata": {
    "_cell_guid": "2cbb28fe-630b-4d79-adc0-bed9f116417a",
    "_uuid": "c7815ce52638e66d79c7eab90622e2fb74e95a8b"
   },
   "source": [
    "Now, we have full data 'df' for computation.<br/>\n",
    "We are ready for spliting data into train/test set, defining features and labels, and normalization."
   ]
  },
  {
   "cell_type": "code",
   "execution_count": null,
   "metadata": {
    "_cell_guid": "e847e536-2dbf-4462-8ffc-9969dc1087e8",
    "_uuid": "00c96f2850f4fb5da7cf18959bd2abbaa7d537b5"
   },
   "outputs": [],
   "source": [
    "df_data = df #making temporary save"
   ]
  },
  {
   "cell_type": "markdown",
   "metadata": {
    "_cell_guid": "fa88ca28-6e6f-4931-bf25-99e3c75e5fe2",
    "_uuid": "e6ae8af4b395ef5ea6389d1c85e2f0549afe17c6"
   },
   "source": [
    "## Data set description"
   ]
  },
  {
   "cell_type": "code",
   "execution_count": null,
   "metadata": {
    "_cell_guid": "ababb952-8421-4d5d-b11a-a6e7b7fe2cdf",
    "_uuid": "9cd556622a03224b72c1882ce6865d27f65a6735"
   },
   "outputs": [],
   "source": [
    "df.describe()"
   ]
  },
  {
   "cell_type": "code",
   "execution_count": null,
   "metadata": {
    "_cell_guid": "63c00af8-c34c-494a-9b75-df7a9ee40d4a",
    "_uuid": "086f0abfedeedfc3bacb5476ddf09fd16381fd30"
   },
   "outputs": [],
   "source": [
    "fig, (ax1,ax2,ax3,ax4,ax5,ax6,ax7,ax8) = plt.subplots(8,1,figsize=(20,40))\n",
    "sns.countplot(x='Age', data=df, ax=ax1)\n",
    "sns.countplot(x='Number of sexual partners', data=df, ax=ax2)\n",
    "sns.countplot(x='Num of pregnancies', data=df, ax=ax3)\n",
    "sns.countplot(x='Smokes (years)', data=df, ax=ax4)\n",
    "sns.countplot(x='Hormonal Contraceptives (years)', data=df, ax=ax5)\n",
    "sns.countplot(x='IUD (years)', data=df, ax=ax6)\n",
    "sns.countplot(x='STDs (number)', data=df, ax=ax7)\n",
    "sns.countplot(x='Biopsy', data=df, ax=ax8)"
   ]
  },
  {
   "cell_type": "markdown",
   "metadata": {},
   "source": [
    "### Inspecting the priors\n",
    "Now inspect the targets which is here the result of the biopsy. Compute below the priors of sick vs healthy patients."
   ]
  },
  {
   "cell_type": "code",
   "execution_count": null,
   "metadata": {},
   "outputs": [],
   "source": [
    "targets = np.array(df['Biopsy'])\n",
    "\n",
    "### START Your code here\n",
    "\n",
    "\n",
    "\n",
    "\n",
    "### END Your code here\n",
    "\n",
    "print('Prior for healthy = ', p_healthy)\n",
    "print('Prior for sick    = ', p_sick)"
   ]
  },
  {
   "cell_type": "markdown",
   "metadata": {},
   "source": [
    "**What is your observation about this dataset (in terms of priors)?**  COMPLETE"
   ]
  },
  {
   "cell_type": "markdown",
   "metadata": {},
   "source": [
    "Let's assume know 3 teams A, B and C fight on Kaggle on this task and report their results on an independent test set (with n_test = 300).\n",
    " - Team A: 91.3% overall accuracy\n",
    " - Team B: 93.5% overall accuracy\n",
    " - Team C: 96.5% overall accuracy\n",
    "\n",
    "**Which system would you buy?** COMPLETE\n",
    "\n",
    "**What would you need to take a better decision?**  COMPLETE"
   ]
  },
  {
   "cell_type": "code",
   "execution_count": null,
   "metadata": {},
   "outputs": [],
   "source": []
  }
 ],
 "metadata": {
  "kernelspec": {
   "display_name": "Python 3",
   "language": "python",
   "name": "python3"
  },
  "language_info": {
   "codemirror_mode": {
    "name": "ipython",
    "version": 3
   },
   "file_extension": ".py",
   "mimetype": "text/x-python",
   "name": "python",
   "nbconvert_exporter": "python",
   "pygments_lexer": "ipython3",
   "version": "3.7.3"
  }
 },
 "nbformat": 4,
 "nbformat_minor": 1
}
