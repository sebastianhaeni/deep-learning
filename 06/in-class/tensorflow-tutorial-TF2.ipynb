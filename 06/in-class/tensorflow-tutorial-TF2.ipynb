{
 "cells": [
  {
   "cell_type": "markdown",
   "metadata": {},
   "source": [
    "## Simple graph example"
   ]
  },
  {
   "cell_type": "code",
   "execution_count": 1,
   "metadata": {},
   "outputs": [
    {
     "name": "stdout",
     "output_type": "stream",
     "text": [
      "6.717008537800067\n",
      "[[ 0.76103773  0.12167502  0.44386323  0.33367433]\n",
      " [ 1.49407907 -0.20515826  0.3130677  -0.85409574]\n",
      " [-2.55298982  0.6536186   0.8644362  -0.74216502]]\n",
      "[[ 1.76405235  0.40015721  0.97873798  2.2408932 ]\n",
      " [ 1.86755799 -0.97727788  0.95008842 -0.15135721]\n",
      " [-0.10321885  0.4105985   0.14404357  1.45427351]]\n",
      "[[1. 1. 1. 1.]\n",
      " [1. 1. 1. 1.]\n",
      " [1. 1. 1. 1.]]\n"
     ]
    }
   ],
   "source": [
    "import numpy as np\n",
    "\n",
    "# simple computational graph - numpy\n",
    "N, D = 3, 4\n",
    "np.random.seed(0)\n",
    "x = np.random.randn(N, D)\n",
    "y = np.random.randn(N, D)\n",
    "z = np.random.randn(N, D)\n",
    "\n",
    "a = x * y  # shape (N, D)\n",
    "b = a + z  # shape (N, D)\n",
    "c = np.sum(b)\n",
    "\n",
    "grad_c = 1.0\n",
    "grad_b = grad_c * np.ones((N,D))\n",
    "grad_a = grad_b.copy()\n",
    "grad_z = grad_b.copy()\n",
    "grad_x = grad_a * y\n",
    "grad_y = grad_a * x\n",
    "\n",
    "print(c)\n",
    "print(grad_x)\n",
    "print(grad_y)\n",
    "print(grad_z)"
   ]
  },
  {
   "cell_type": "code",
   "execution_count": 2,
   "metadata": {},
   "outputs": [
    {
     "name": "stdout",
     "output_type": "stream",
     "text": [
      "c_val = tf.Tensor(6.717008537800066, shape=(), dtype=float64)\n",
      "grad_x_val = tf.Tensor(\n",
      "[[ 0.76103773  0.12167502  0.44386323  0.33367433]\n",
      " [ 1.49407907 -0.20515826  0.3130677  -0.85409574]\n",
      " [-2.55298982  0.6536186   0.8644362  -0.74216502]], shape=(3, 4), dtype=float64)\n",
      "grad_y_val = tf.Tensor(\n",
      "[[ 1.76405235  0.40015721  0.97873798  2.2408932 ]\n",
      " [ 1.86755799 -0.97727788  0.95008842 -0.15135721]\n",
      " [-0.10321885  0.4105985   0.14404357  1.45427351]], shape=(3, 4), dtype=float64)\n",
      "grad_z_val = tf.Tensor(\n",
      "[[1. 1. 1. 1.]\n",
      " [1. 1. 1. 1.]\n",
      " [1. 1. 1. 1.]], shape=(3, 4), dtype=float64)\n"
     ]
    }
   ],
   "source": [
    "#TENSORFLOW 2.0\n",
    "import numpy as np\n",
    "import tensorflow as tf\n",
    "\n",
    "# simple computational graph with tensorflow\n",
    "\n",
    "@tf.function # this decorator tells tf that a graph is defined\n",
    "def simple_graph(x, y, z):\n",
    "    a = x * y\n",
    "    b = a + z\n",
    "    c = tf.reduce_sum(input_tensor=b)\n",
    "    grad_x, grad_y, grad_z = tf.gradients(ys=c, xs=[x, y, z])\n",
    "    return c, grad_x, grad_y, grad_z\n",
    "\n",
    "N, D = 3, 4\n",
    "np.random.seed(0)\n",
    "x = np.random.randn(N, D)\n",
    "y = np.random.randn(N, D)\n",
    "z = np.random.randn(N, D)\n",
    "\n",
    "c_val, grad_x_val, grad_y_val, grad_z_val = simple_graph(x, y, z)\n",
    "\n",
    "print('c_val =', c_val)\n",
    "print('grad_x_val =', grad_x_val)\n",
    "print('grad_y_val =', grad_y_val)\n",
    "print('grad_z_val =', grad_z_val)"
   ]
  },
  {
   "cell_type": "code",
   "execution_count": 3,
   "metadata": {},
   "outputs": [
    {
     "name": "stdout",
     "output_type": "stream",
     "text": [
      "Num GPUs Available:  0\n",
      "Num CPUs Available:  1\n"
     ]
    }
   ],
   "source": [
    "import tensorflow as tf\n",
    "print(\"Num GPUs Available: \", len(tf.config.experimental.list_physical_devices('GPU')))\n",
    "print(\"Num CPUs Available: \", len(tf.config.experimental.list_physical_devices('CPU')))"
   ]
  },
  {
   "cell_type": "code",
   "execution_count": 4,
   "metadata": {},
   "outputs": [
    {
     "ename": "ModuleNotFoundError",
     "evalue": "No module named 'torch'",
     "output_type": "error",
     "traceback": [
      "\u001b[0;31m---------------------------------------------------------------------------\u001b[0m",
      "\u001b[0;31mModuleNotFoundError\u001b[0m                       Traceback (most recent call last)",
      "\u001b[0;32m<ipython-input-4-e65ec81061b5>\u001b[0m in \u001b[0;36m<module>\u001b[0;34m\u001b[0m\n\u001b[1;32m      1\u001b[0m \u001b[0;31m# Just as example to show how it looks in PyTorch\u001b[0m\u001b[0;34m\u001b[0m\u001b[0;34m\u001b[0m\u001b[0;34m\u001b[0m\u001b[0m\n\u001b[1;32m      2\u001b[0m \u001b[0;31m# You can skip this cell if you don't want to install PyTorch\u001b[0m\u001b[0;34m\u001b[0m\u001b[0;34m\u001b[0m\u001b[0;34m\u001b[0m\u001b[0m\n\u001b[0;32m----> 3\u001b[0;31m \u001b[0;32mimport\u001b[0m \u001b[0mtorch\u001b[0m\u001b[0;34m\u001b[0m\u001b[0;34m\u001b[0m\u001b[0m\n\u001b[0m\u001b[1;32m      4\u001b[0m \u001b[0;32mfrom\u001b[0m \u001b[0mtorch\u001b[0m\u001b[0;34m.\u001b[0m\u001b[0mautograd\u001b[0m \u001b[0;32mimport\u001b[0m \u001b[0mVariable\u001b[0m\u001b[0;34m\u001b[0m\u001b[0;34m\u001b[0m\u001b[0m\n\u001b[1;32m      5\u001b[0m \u001b[0;34m\u001b[0m\u001b[0m\n",
      "\u001b[0;31mModuleNotFoundError\u001b[0m: No module named 'torch'"
     ]
    }
   ],
   "source": [
    "# Just as example to show how it looks in PyTorch \n",
    "# You can skip this cell if you don't want to install PyTorch\n",
    "import torch\n",
    "from torch.autograd import Variable\n",
    "\n",
    "# simple computational graph - torch on gpu\n",
    "N, D = 3, 4\n",
    "\n",
    "x = Variable(torch.randn(N, D).cuda(), \n",
    "             requires_grad=True)\n",
    "y = Variable(torch.randn(N, D).cuda(), \n",
    "             requires_grad=True)\n",
    "z = Variable(torch.randn(N, D).cuda(), \n",
    "             requires_grad=True)\n",
    "\n",
    "a = x * y\n",
    "b = a + z\n",
    "c = torch.sum(b)\n",
    "\n",
    "c.backward()\n",
    "\n",
    "print(x.grad.data)\n",
    "print(y.grad.data)\n",
    "print(z.grad.data)"
   ]
  },
  {
   "cell_type": "markdown",
   "metadata": {},
   "source": [
    "## A more complex example of graph\n",
    "\n",
    "### Utility function - plot history"
   ]
  },
  {
   "cell_type": "code",
   "execution_count": 5,
   "metadata": {},
   "outputs": [],
   "source": [
    "import matplotlib.pyplot as plt\n",
    "\n",
    "def plot_history(epoch_vector, losses_list, name_list, y_label):\n",
    "    # plt.figure(figsize=(12,8))\n",
    "    for i, losses in enumerate(losses_list):\n",
    "        plt.plot(epoch_vector, losses, label=name_list[i])\n",
    "    plt.xlabel('Epochs')\n",
    "    plt.ylabel(y_label)\n",
    "    plt.legend()\n",
    "    plt.show()"
   ]
  },
  {
   "cell_type": "markdown",
   "metadata": {},
   "source": [
    "### Step 0: get some data"
   ]
  },
  {
   "cell_type": "code",
   "execution_count": 6,
   "metadata": {},
   "outputs": [
    {
     "name": "stdout",
     "output_type": "stream",
     "text": [
      "Downloading data from https://storage.googleapis.com/tensorflow/tf-keras-datasets/mnist.npz\n",
      "11493376/11490434 [==============================] - 1s 0us/step\n",
      "MNIST data set ready. N=60000, D=784, n_classes=10\n"
     ]
    }
   ],
   "source": [
    "# First get MNIST data and prepare it\n",
    "mnist = tf.keras.datasets.mnist\n",
    "(x_train, y_train_vec),(x_test, y_test_vec) = mnist.load_data()\n",
    "x_train, x_test = x_train / 255.0, x_test / 255.0\n",
    "x_train = x_train.reshape(60000, 784)\n",
    "x_test = x_test.reshape(10000, 784)\n",
    "# convert class vectors to binary class matrices\n",
    "y_train = tf.keras.utils.to_categorical(y_train_vec, 10, dtype='float64')\n",
    "y_test = tf.keras.utils.to_categorical(y_test_vec, 10, dtype='float64')\n",
    "N = x_train.shape[0]         # number of samples\n",
    "D = x_train.shape[1]         # dimension of input sample\n",
    "n_classes = y_train.shape[1] # output dim\n",
    "print('MNIST data set ready. N={}, D={}, n_classes={}'.format(N,D,n_classes))"
   ]
  },
  {
   "cell_type": "markdown",
   "metadata": {},
   "source": [
    "### Step 1\n",
    "This graph is actually creating the necessary nodes to:\n",
    "1. Do the forward pass (line 8)\n",
    "2. Compute the MSE loss (lines 9 and 10)\n",
    "3. Compute the gradients of the loss w.r.t. the weights (line 11)\n",
    "\n",
    "In line 20, we init the weights (outside of the graph, using numpy). In line 23 we use the graph, passing the whole train set (inputs and targets) and getting out of the graph the predicted outputs, the loss and the gradient values."
   ]
  },
  {
   "cell_type": "code",
   "execution_count": 7,
   "metadata": {},
   "outputs": [
    {
     "name": "stdout",
     "output_type": "stream",
     "text": [
      "tf.Tensor(39.41829141530692, shape=(), dtype=float64)\n",
      "tf.Tensor(\n",
      "[[0. 0. 0. ... 0. 0. 0.]\n",
      " [0. 0. 0. ... 0. 0. 0.]\n",
      " [0. 0. 0. ... 0. 0. 0.]\n",
      " ...\n",
      " [0. 0. 0. ... 0. 0. 0.]\n",
      " [0. 0. 0. ... 0. 0. 0.]\n",
      " [0. 0. 0. ... 0. 0. 0.]], shape=(784, 10), dtype=float64)\n"
     ]
    }
   ],
   "source": [
    "# TensorFlow 2.0 - a more complex example\n",
    "# step 1 - forward pass on single layer ANN with ReLu\n",
    "import numpy as np\n",
    "import tensorflow as tf\n",
    "\n",
    "@tf.function # this decorator tells tf that a graph is defined\n",
    "def simple_ann_train(x, w1, y):\n",
    "    y_pred = tf.maximum(tf.matmul(x, w1), 0) # ReLU on logit\n",
    "    diff = y_pred - y\n",
    "    loss = tf.reduce_mean(tf.pow(diff, 2))\n",
    "    grad = tf.gradients(ys=loss, xs=[w1]) \n",
    "    # tf.gradients returns a list of sum(dy/dx) for each x in xs\n",
    "    return y_pred, loss, grad\n",
    "\n",
    "N = x_train.shape[0]         # number of samples\n",
    "D = x_train.shape[1]         # dimension of input sample\n",
    "n_classes = y_train.shape[1] # output dim\n",
    "\n",
    "np.random.seed(0)\n",
    "w1 = np.random.randn(D, n_classes)\n",
    "\n",
    "with tf.device('/CPU:0'):  # change to /GPU:0 to move to GPU\n",
    "    out = simple_ann_train(x_train, w1, y_train)\n",
    "\n",
    "y_pred, loss_val, grad = out\n",
    "grad_w1 = grad[0] #grad is a list\n",
    "print(loss_val)\n",
    "print(grad_w1)"
   ]
  },
  {
   "cell_type": "code",
   "execution_count": 8,
   "metadata": {},
   "outputs": [
    {
     "name": "stdout",
     "output_type": "stream",
     "text": [
      "epoch = 0, loss = 39.41829141530692\n",
      "epoch = 1, loss = 36.043206025440234\n",
      "epoch = 2, loss = 33.07253170080303\n",
      "epoch = 3, loss = 30.449656869080798\n",
      "epoch = 4, loss = 28.126550481355917\n",
      "epoch = 5, loss = 26.062252351413335\n",
      "epoch = 6, loss = 24.22200368150052\n",
      "epoch = 7, loss = 22.576233836528324\n",
      "epoch = 8, loss = 21.099890233069484\n",
      "epoch = 9, loss = 19.771455229132886\n",
      "epoch = 10, loss = 18.572468533193316\n",
      "epoch = 11, loss = 17.48702518995156\n",
      "epoch = 12, loss = 16.50171232729688\n",
      "epoch = 13, loss = 15.604799659289315\n",
      "epoch = 14, loss = 14.786151227174917\n",
      "epoch = 15, loss = 14.037002733276523\n",
      "epoch = 16, loss = 13.34972877544156\n",
      "epoch = 17, loss = 12.717700387907456\n",
      "epoch = 18, loss = 12.135166114045061\n",
      "epoch = 19, loss = 11.597026390657618\n",
      "epoch = 20, loss = 11.098884763768165\n",
      "epoch = 21, loss = 10.636840508446957\n",
      "epoch = 22, loss = 10.207456860534212\n",
      "epoch = 23, loss = 9.807640873811199\n",
      "epoch = 24, loss = 9.434671378817363\n",
      "epoch = 25, loss = 9.086133994623346\n",
      "epoch = 26, loss = 8.759888361964292\n",
      "epoch = 27, loss = 8.454038296391422\n",
      "epoch = 28, loss = 8.166858442929412\n",
      "epoch = 29, loss = 7.896781576778913\n",
      "epoch = 30, loss = 7.6424620672476\n",
      "epoch = 31, loss = 7.40264360755099\n",
      "epoch = 32, loss = 7.176183593179217\n",
      "epoch = 33, loss = 6.962060160554429\n",
      "epoch = 34, loss = 6.759348048825316\n",
      "epoch = 35, loss = 6.567207338255645\n",
      "epoch = 36, loss = 6.384885050072262\n",
      "epoch = 37, loss = 6.211690315163003\n",
      "epoch = 38, loss = 6.0469848574954606\n",
      "epoch = 39, loss = 5.890190444693545\n"
     ]
    },
    {
     "data": {
      "text/plain": [
       "[<matplotlib.lines.Line2D at 0x108ea5630>]"
      ]
     },
     "execution_count": 8,
     "metadata": {},
     "output_type": "execute_result"
    },
    {
     "data": {
      "image/png": "[encoded data removed]",
      "text/plain": [
       "<Figure size 432x288 with 1 Axes>"
      ]
     },
     "metadata": {
      "needs_background": "light"
     },
     "output_type": "display_data"
    }
   ],
   "source": [
    "# TensorFlow 2.0 - a more complex example\n",
    "# step 2 - training but weights are passing from gpu to cpu\n",
    "import numpy as np\n",
    "import tensorflow as tf\n",
    "import matplotlib.pyplot as plt\n",
    "\n",
    "@tf.function # this decorator tells tf that a graph is defined\n",
    "def simple_ann_train(x, w1, y):\n",
    "    y_pred = tf.maximum(tf.matmul(x, w1), 0) # ReLU on logit\n",
    "    diff = y_pred - y\n",
    "    loss = tf.reduce_mean(tf.pow(diff, 2))\n",
    "    grad = tf.gradients(ys=loss, xs=[w1])\n",
    "    # tf.gradients returns a list of sum(dy/dx) for each x in xs\n",
    "    return y_pred, loss, grad\n",
    "\n",
    "np.random.seed(0)\n",
    "w1 = np.random.randn(D, n_classes)\n",
    "alpha = 1e-2\n",
    "J = []\n",
    "for epoch in range(40):\n",
    "    with tf.device('/CPU:0'):  # change to /GPU:0 to move it to GPU\n",
    "        out = simple_ann_train(x_train, w1, y_train)\n",
    "    y_pred, loss_val, grad = out\n",
    "    grad_w1 = grad[0] # grad is a list of gradients\n",
    "    w1 -= alpha * grad_w1.numpy()\n",
    "    J.append(loss_val)\n",
    "    print(\"epoch = {}, loss = {}\".format(epoch,loss_val))\n",
    "\n",
    "plt.plot(J)"
   ]
  },
  {
   "cell_type": "code",
   "execution_count": 9,
   "metadata": {},
   "outputs": [
    {
     "name": "stdout",
     "output_type": "stream",
     "text": [
      "epoch = 0, loss = 63.6220454410602\n",
      "epoch = 1, loss = 58.06371949431109\n",
      "epoch = 2, loss = 53.185293474860664\n",
      "epoch = 3, loss = 48.88943560687275\n",
      "epoch = 4, loss = 45.0937757860741\n",
      "epoch = 5, loss = 41.72878922175652\n",
      "epoch = 6, loss = 38.73528930037896\n",
      "epoch = 7, loss = 36.06319985528618\n",
      "epoch = 8, loss = 33.66986772155233\n",
      "epoch = 9, loss = 31.51912880834434\n",
      "epoch = 10, loss = 29.580165860601273\n",
      "epoch = 11, loss = 27.826637398359395\n",
      "epoch = 12, loss = 26.235959279496303\n",
      "epoch = 13, loss = 24.788813268674016\n",
      "epoch = 14, loss = 23.46850217448235\n",
      "epoch = 15, loss = 22.260559074501533\n",
      "epoch = 16, loss = 21.152498638317336\n",
      "epoch = 17, loss = 20.133474187174674\n",
      "epoch = 18, loss = 19.194036918996854\n",
      "epoch = 19, loss = 18.326033033020934\n",
      "epoch = 20, loss = 17.522266296236335\n",
      "epoch = 21, loss = 16.77632304856295\n",
      "epoch = 22, loss = 16.082675436545586\n",
      "epoch = 23, loss = 15.436473982552073\n",
      "epoch = 24, loss = 14.833302114656698\n",
      "epoch = 25, loss = 14.269344710758034\n",
      "epoch = 26, loss = 13.741176294574409\n",
      "epoch = 27, loss = 13.245732174285504\n",
      "epoch = 28, loss = 12.78025473414629\n",
      "epoch = 29, loss = 12.342271200176306\n",
      "epoch = 30, loss = 11.929571374523258\n",
      "epoch = 31, loss = 11.540161361792116\n",
      "epoch = 32, loss = 11.172260193109855\n",
      "epoch = 33, loss = 10.824250717200188\n",
      "epoch = 34, loss = 10.494628660037728\n",
      "epoch = 35, loss = 10.182051876061504\n",
      "epoch = 36, loss = 9.885300499438193\n",
      "epoch = 37, loss = 9.603295264575348\n",
      "epoch = 38, loss = 9.335040022587968\n",
      "epoch = 39, loss = 9.07959086597899\n"
     ]
    },
    {
     "data": {
      "text/plain": [
       "[<matplotlib.lines.Line2D at 0x63603c470>]"
      ]
     },
     "execution_count": 9,
     "metadata": {},
     "output_type": "execute_result"
    },
    {
     "data": {
      "image/png": "[encoded data removed]",
      "text/plain": [
       "<Figure size 432x288 with 1 Axes>"
      ]
     },
     "metadata": {
      "needs_background": "light"
     },
     "output_type": "display_data"
    }
   ],
   "source": [
    "# TensorFlow 2.0 - a more complex example\n",
    "# step 3 - change weights to persistant in-graph variables\n",
    "import numpy as np\n",
    "import tensorflow as tf\n",
    "import matplotlib.pyplot as plt\n",
    "\n",
    "@tf.function # this decorator tells tf that a graph is defined\n",
    "def simple_ann_train(x, y, alpha):\n",
    "    y_pred = tf.maximum(tf.matmul(x, w1), 0) # ReLU on logit\n",
    "    diff = y_pred - y\n",
    "    loss = tf.reduce_mean(tf.pow(diff, 2))\n",
    "    grad = tf.gradients(ys=loss, xs=[w1])\n",
    "    # tf.gradients returns a list of sum(dy/dx) for each x in xs\n",
    "    grad_w1 = grad[0]\n",
    "    w1.assign(w1 - alpha * grad_w1)\n",
    "    return y_pred, loss\n",
    "\n",
    "np.random.seed(0)\n",
    "alpha = 1e-2\n",
    "J = []\n",
    "w1 = tf.Variable(tf.random.normal((D, n_classes), dtype='float64'))\n",
    "for epoch in range(40):\n",
    "    with tf.device('/CPU:0'):  # change to /GPU:0 to move it to GPU\n",
    "        out = simple_ann_train(x_train, y_train, alpha)\n",
    "    y_pred, loss_val = out\n",
    "    J.append(loss_val)\n",
    "    print(\"epoch = {}, loss = {}\".format(epoch,loss_val))\n",
    "\n",
    "plt.plot(J)"
   ]
  },
  {
   "cell_type": "code",
   "execution_count": 10,
   "metadata": {},
   "outputs": [
    {
     "name": "stdout",
     "output_type": "stream",
     "text": [
      "epoch = 0, loss = 81.73814392089844\n",
      "epoch = 1, loss = 72.59358215332031\n",
      "epoch = 2, loss = 64.7077407836914\n",
      "epoch = 3, loss = 57.89655303955078\n",
      "epoch = 4, loss = 52.00297546386719\n",
      "epoch = 5, loss = 46.893245697021484\n",
      "epoch = 6, loss = 42.45335006713867\n",
      "epoch = 7, loss = 38.58601760864258\n",
      "epoch = 8, loss = 35.20866394042969\n",
      "epoch = 9, loss = 32.25084686279297\n",
      "epoch = 10, loss = 29.65260124206543\n",
      "epoch = 11, loss = 27.363170623779297\n",
      "epoch = 12, loss = 25.339311599731445\n",
      "epoch = 13, loss = 23.54427719116211\n",
      "epoch = 14, loss = 21.946796417236328\n",
      "epoch = 15, loss = 20.52029037475586\n",
      "epoch = 16, loss = 19.242074966430664\n",
      "epoch = 17, loss = 18.092771530151367\n",
      "epoch = 18, loss = 17.055879592895508\n",
      "epoch = 19, loss = 16.11731719970703\n",
      "epoch = 20, loss = 15.265137672424316\n",
      "epoch = 21, loss = 14.489046096801758\n",
      "epoch = 22, loss = 13.780059814453125\n",
      "epoch = 23, loss = 13.130560874938965\n",
      "epoch = 24, loss = 12.533862113952637\n",
      "epoch = 25, loss = 11.984227180480957\n",
      "epoch = 26, loss = 11.476631164550781\n",
      "epoch = 27, loss = 11.006674766540527\n",
      "epoch = 28, loss = 10.570548057556152\n",
      "epoch = 29, loss = 10.16495418548584\n",
      "epoch = 30, loss = 9.786988258361816\n",
      "epoch = 31, loss = 9.434043884277344\n",
      "epoch = 32, loss = 9.10381031036377\n",
      "epoch = 33, loss = 8.794252395629883\n",
      "epoch = 34, loss = 8.503554344177246\n",
      "epoch = 35, loss = 8.230108261108398\n",
      "epoch = 36, loss = 7.972513675689697\n",
      "epoch = 37, loss = 7.729466438293457\n",
      "epoch = 38, loss = 7.499800205230713\n",
      "epoch = 39, loss = 7.282485485076904\n"
     ]
    },
    {
     "data": {
      "text/plain": [
       "[<matplotlib.lines.Line2D at 0x6361df7f0>]"
      ]
     },
     "execution_count": 10,
     "metadata": {},
     "output_type": "execute_result"
    },
    {
     "data": {
      "image/png": "[encoded data removed]",
      "text/plain": [
       "<Figure size 432x288 with 1 Axes>"
      ]
     },
     "metadata": {
      "needs_background": "light"
     },
     "output_type": "display_data"
    }
   ],
   "source": [
    "# TensorFlow 2.0 - a more complex example\n",
    "# step 4 - use pre-defined losses and optimizers\n",
    "import numpy as np\n",
    "import tensorflow as tf\n",
    "import matplotlib.pyplot as plt\n",
    "\n",
    "@tf.function # this decorator tells tf that a graph is defined\n",
    "def simple_ann_train(x, y, alpha):\n",
    "    y_pred = tf.nn.relu(tf.matmul(x, w1))  # ReLU on logit\n",
    "    mse = tf.keras.losses.MeanSquaredError()\n",
    "    loss = mse(y, y_pred)\n",
    "    optimizer = tf.compat.v1.train.GradientDescentOptimizer(1e-2)\n",
    "    updates = optimizer.minimize(loss, var_list=w1)\n",
    "    return y_pred, loss\n",
    "\n",
    "np.random.seed(0)\n",
    "alpha = 1e-2\n",
    "J = []\n",
    "w1 = tf.Variable(tf.random.normal((D, n_classes), dtype='float64'))\n",
    "for epoch in range(40):\n",
    "    with tf.device('/CPU:0'):  # change to /GPU:0 to move it to GPU\n",
    "        out = simple_ann_train(x_train, y_train, alpha)\n",
    "    y_pred, loss_val = out\n",
    "    J.append(loss_val)\n",
    "    print(\"epoch = {}, loss = {}\".format(epoch,loss_val))\n",
    "\n",
    "plt.plot(J)"
   ]
  },
  {
   "cell_type": "markdown",
   "metadata": {},
   "source": [
    "### Using pre-defined models with Keras "
   ]
  },
  {
   "cell_type": "code",
   "execution_count": 11,
   "metadata": {},
   "outputs": [
    {
     "name": "stdout",
     "output_type": "stream",
     "text": [
      "Model: \"sequential\"\n",
      "_________________________________________________________________\n",
      "Layer (type)                 Output Shape              Param #   \n",
      "=================================================================\n",
      "dense (Dense)                (None, 10)                7840      \n",
      "=================================================================\n",
      "Total params: 7,840\n",
      "Trainable params: 7,840\n",
      "Non-trainable params: 0\n",
      "_________________________________________________________________\n",
      "Train on 60000 samples\n",
      "Epoch 1/40\n",
      "60000/60000 [==============================] - 2s 37us/sample - loss: 0.1748 - accuracy: 0.0807\n",
      "Epoch 2/40\n",
      "60000/60000 [==============================] - 0s 4us/sample - loss: 0.1008 - accuracy: 0.1247\n",
      "Epoch 3/40\n",
      "60000/60000 [==============================] - 0s 4us/sample - loss: 0.0998 - accuracy: 0.1357\n",
      "Epoch 4/40\n",
      "60000/60000 [==============================] - 0s 4us/sample - loss: 0.0991 - accuracy: 0.1475\n",
      "Epoch 5/40\n",
      "60000/60000 [==============================] - 0s 6us/sample - loss: 0.0983 - accuracy: 0.1601\n",
      "Epoch 6/40\n",
      "60000/60000 [==============================] - 0s 4us/sample - loss: 0.0975 - accuracy: 0.1754\n",
      "Epoch 7/40\n",
      "60000/60000 [==============================] - 0s 4us/sample - loss: 0.0964 - accuracy: 0.1931\n",
      "Epoch 8/40\n",
      "60000/60000 [==============================] - 0s 3us/sample - loss: 0.0951 - accuracy: 0.2175\n",
      "Epoch 9/40\n",
      "60000/60000 [==============================] - 0s 3us/sample - loss: 0.0933 - accuracy: 0.2505\n",
      "Epoch 10/40\n",
      "60000/60000 [==============================] - 0s 3us/sample - loss: 0.0904 - accuracy: 0.2862\n",
      "Epoch 11/40\n",
      "60000/60000 [==============================] - 0s 3us/sample - loss: 0.0875 - accuracy: 0.3092\n",
      "Epoch 12/40\n",
      "60000/60000 [==============================] - 0s 3us/sample - loss: 0.0856 - accuracy: 0.3219\n",
      "Epoch 13/40\n",
      "60000/60000 [==============================] - 0s 3us/sample - loss: 0.0843 - accuracy: 0.3329\n",
      "Epoch 14/40\n",
      "60000/60000 [==============================] - 0s 3us/sample - loss: 0.0831 - accuracy: 0.3436\n",
      "Epoch 15/40\n",
      "60000/60000 [==============================] - 0s 3us/sample - loss: 0.0820 - accuracy: 0.3526\n",
      "Epoch 16/40\n",
      "60000/60000 [==============================] - 0s 3us/sample - loss: 0.0810 - accuracy: 0.3619\n",
      "Epoch 17/40\n",
      "60000/60000 [==============================] - 0s 3us/sample - loss: 0.0801 - accuracy: 0.3716\n",
      "Epoch 18/40\n",
      "60000/60000 [==============================] - 0s 3us/sample - loss: 0.0793 - accuracy: 0.3807\n",
      "Epoch 19/40\n",
      "60000/60000 [==============================] - 0s 3us/sample - loss: 0.0785 - accuracy: 0.3900\n",
      "Epoch 20/40\n",
      "60000/60000 [==============================] - 0s 3us/sample - loss: 0.0777 - accuracy: 0.3988\n",
      "Epoch 21/40\n",
      "60000/60000 [==============================] - 0s 3us/sample - loss: 0.0770 - accuracy: 0.4078\n",
      "Epoch 22/40\n",
      "60000/60000 [==============================] - 0s 3us/sample - loss: 0.0762 - accuracy: 0.4173\n",
      "Epoch 23/40\n",
      "60000/60000 [==============================] - 0s 3us/sample - loss: 0.0754 - accuracy: 0.4265\n",
      "Epoch 24/40\n",
      "60000/60000 [==============================] - 0s 3us/sample - loss: 0.0747 - accuracy: 0.4363\n",
      "Epoch 25/40\n",
      "60000/60000 [==============================] - 0s 3us/sample - loss: 0.0739 - accuracy: 0.4456\n",
      "Epoch 26/40\n",
      "60000/60000 [==============================] - 0s 3us/sample - loss: 0.0732 - accuracy: 0.4546\n",
      "Epoch 27/40\n",
      "60000/60000 [==============================] - 0s 3us/sample - loss: 0.0724 - accuracy: 0.4623\n",
      "Epoch 28/40\n",
      "60000/60000 [==============================] - 0s 3us/sample - loss: 0.0717 - accuracy: 0.4706\n",
      "Epoch 29/40\n",
      "60000/60000 [==============================] - 0s 4us/sample - loss: 0.0710 - accuracy: 0.4780\n",
      "Epoch 30/40\n",
      "60000/60000 [==============================] - 0s 4us/sample - loss: 0.0704 - accuracy: 0.4840\n",
      "Epoch 31/40\n",
      "60000/60000 [==============================] - 0s 4us/sample - loss: 0.0698 - accuracy: 0.4900\n",
      "Epoch 32/40\n",
      "60000/60000 [==============================] - 0s 4us/sample - loss: 0.0692 - accuracy: 0.4956\n",
      "Epoch 33/40\n",
      "60000/60000 [==============================] - 0s 4us/sample - loss: 0.0686 - accuracy: 0.5005\n",
      "Epoch 34/40\n",
      "60000/60000 [==============================] - 0s 3us/sample - loss: 0.0681 - accuracy: 0.5050\n",
      "Epoch 35/40\n",
      "60000/60000 [==============================] - 0s 3us/sample - loss: 0.0676 - accuracy: 0.5083\n",
      "Epoch 36/40\n",
      "60000/60000 [==============================] - 0s 3us/sample - loss: 0.0672 - accuracy: 0.5118\n",
      "Epoch 37/40\n",
      "60000/60000 [==============================] - 0s 3us/sample - loss: 0.0667 - accuracy: 0.5152\n",
      "Epoch 38/40\n",
      "60000/60000 [==============================] - 0s 3us/sample - loss: 0.0663 - accuracy: 0.5184\n",
      "Epoch 39/40\n",
      "60000/60000 [==============================] - 0s 3us/sample - loss: 0.0659 - accuracy: 0.5215\n",
      "Epoch 40/40\n",
      "60000/60000 [==============================] - 0s 3us/sample - loss: 0.0656 - accuracy: 0.5243\n",
      "10000/1 - 0s - loss: 0.0623 - accuracy: 0.5377\n"
     ]
    },
    {
     "data": {
      "text/plain": [
       "[0.06403636519908905, 0.5377]"
      ]
     },
     "execution_count": 11,
     "metadata": {},
     "output_type": "execute_result"
    }
   ],
   "source": [
    "# Using Keras\n",
    "# Single layer network architecture, similar to the one used in the previous steps.\n",
    "# Full batch SGD\n",
    "import tensorflow as tf\n",
    "\n",
    "model = tf.keras.models.Sequential()\n",
    "model.add(tf.keras.layers.Dense(10, input_shape=(D,), use_bias=False, activation='relu'))\n",
    "model.summary()\n",
    "\n",
    "sgd = tf.keras.optimizers.SGD(learning_rate=0.5)\n",
    "\n",
    "model.compile(optimizer=sgd, loss='mse', metrics=['accuracy'])\n",
    "\n",
    "history1 = model.fit(x_train, y_train, batch_size=N, epochs=40)\n",
    "\n",
    "model.evaluate(x_test,  y_test, verbose=2)"
   ]
  },
  {
   "cell_type": "code",
   "execution_count": 12,
   "metadata": {},
   "outputs": [
    {
     "name": "stdout",
     "output_type": "stream",
     "text": [
      "Model: \"sequential_1\"\n",
      "_________________________________________________________________\n",
      "Layer (type)                 Output Shape              Param #   \n",
      "=================================================================\n",
      "dense_1 (Dense)              (None, 10)                7840      \n",
      "=================================================================\n",
      "Total params: 7,840\n",
      "Trainable params: 7,840\n",
      "Non-trainable params: 0\n",
      "_________________________________________________________________\n",
      "Train on 60000 samples\n",
      "Epoch 1/40\n",
      "60000/60000 [==============================] - 1s 16us/sample - loss: 0.0981 - accuracy: 0.1732\n",
      "Epoch 2/40\n",
      "60000/60000 [==============================] - 1s 12us/sample - loss: 0.0831 - accuracy: 0.2916\n",
      "Epoch 3/40\n",
      "60000/60000 [==============================] - 1s 12us/sample - loss: 0.0746 - accuracy: 0.3908\n",
      "Epoch 4/40\n",
      "60000/60000 [==============================] - 1s 12us/sample - loss: 0.0682 - accuracy: 0.4592\n",
      "Epoch 5/40\n",
      "60000/60000 [==============================] - 1s 12us/sample - loss: 0.0646 - accuracy: 0.4854\n",
      "Epoch 6/40\n",
      "60000/60000 [==============================] - 1s 13us/sample - loss: 0.0624 - accuracy: 0.5016\n",
      "Epoch 7/40\n",
      "60000/60000 [==============================] - 1s 12us/sample - loss: 0.0606 - accuracy: 0.5163\n",
      "Epoch 8/40\n",
      "60000/60000 [==============================] - 1s 13us/sample - loss: 0.0578 - accuracy: 0.5518s - loss: 0.0590 - \n",
      "Epoch 9/40\n",
      "60000/60000 [==============================] - 1s 11us/sample - loss: 0.0518 - accuracy: 0.6287\n",
      "Epoch 10/40\n",
      "60000/60000 [==============================] - 1s 11us/sample - loss: 0.0479 - accuracy: 0.6602\n",
      "Epoch 11/40\n",
      "60000/60000 [==============================] - 1s 11us/sample - loss: 0.0459 - accuracy: 0.6738\n",
      "Epoch 12/40\n",
      "60000/60000 [==============================] - 1s 13us/sample - loss: 0.0447 - accuracy: 0.6821\n",
      "Epoch 13/40\n",
      "60000/60000 [==============================] - 1s 12us/sample - loss: 0.0438 - accuracy: 0.6878\n",
      "Epoch 14/40\n",
      "60000/60000 [==============================] - 1s 12us/sample - loss: 0.0431 - accuracy: 0.6923\n",
      "Epoch 15/40\n",
      "60000/60000 [==============================] - 1s 12us/sample - loss: 0.0426 - accuracy: 0.6960\n",
      "Epoch 16/40\n",
      "60000/60000 [==============================] - 1s 12us/sample - loss: 0.0421 - accuracy: 0.6990\n",
      "Epoch 17/40\n",
      "60000/60000 [==============================] - 1s 13us/sample - loss: 0.0417 - accuracy: 0.7010\n",
      "Epoch 18/40\n",
      "60000/60000 [==============================] - 1s 13us/sample - loss: 0.0414 - accuracy: 0.7032\n",
      "Epoch 19/40\n",
      "60000/60000 [==============================] - 1s 12us/sample - loss: 0.0411 - accuracy: 0.7052\n",
      "Epoch 20/40\n",
      "60000/60000 [==============================] - 1s 12us/sample - loss: 0.0408 - accuracy: 0.7070\n",
      "Epoch 21/40\n",
      "60000/60000 [==============================] - 1s 12us/sample - loss: 0.0405 - accuracy: 0.7084\n",
      "Epoch 22/40\n",
      "60000/60000 [==============================] - 1s 12us/sample - loss: 0.0403 - accuracy: 0.7094\n",
      "Epoch 23/40\n",
      "60000/60000 [==============================] - 1s 12us/sample - loss: 0.0401 - accuracy: 0.7110\n",
      "Epoch 24/40\n",
      "60000/60000 [==============================] - 1s 12us/sample - loss: 0.0399 - accuracy: 0.7118\n",
      "Epoch 25/40\n",
      "60000/60000 [==============================] - 1s 12us/sample - loss: 0.0398 - accuracy: 0.7126\n",
      "Epoch 26/40\n",
      "60000/60000 [==============================] - 1s 12us/sample - loss: 0.0396 - accuracy: 0.7138\n",
      "Epoch 27/40\n",
      "60000/60000 [==============================] - 1s 12us/sample - loss: 0.0395 - accuracy: 0.7150\n",
      "Epoch 28/40\n",
      "60000/60000 [==============================] - 1s 11us/sample - loss: 0.0393 - accuracy: 0.7157\n",
      "Epoch 29/40\n",
      "60000/60000 [==============================] - 1s 11us/sample - loss: 0.0392 - accuracy: 0.7166\n",
      "Epoch 30/40\n",
      "60000/60000 [==============================] - 1s 12us/sample - loss: 0.0391 - accuracy: 0.7173\n",
      "Epoch 31/40\n",
      "60000/60000 [==============================] - 1s 12us/sample - loss: 0.0390 - accuracy: 0.7180\n",
      "Epoch 32/40\n",
      "60000/60000 [==============================] - 1s 12us/sample - loss: 0.0389 - accuracy: 0.7186\n",
      "Epoch 33/40\n",
      "60000/60000 [==============================] - 1s 13us/sample - loss: 0.0388 - accuracy: 0.7196\n",
      "Epoch 34/40\n",
      "60000/60000 [==============================] - 1s 13us/sample - loss: 0.0387 - accuracy: 0.7200\n",
      "Epoch 35/40\n",
      "60000/60000 [==============================] - 1s 13us/sample - loss: 0.0386 - accuracy: 0.7206\n",
      "Epoch 36/40\n",
      "60000/60000 [==============================] - 1s 12us/sample - loss: 0.0385 - accuracy: 0.7214\n",
      "Epoch 37/40\n",
      "60000/60000 [==============================] - 1s 11us/sample - loss: 0.0384 - accuracy: 0.7220\n",
      "Epoch 38/40\n",
      "60000/60000 [==============================] - 1s 12us/sample - loss: 0.0383 - accuracy: 0.7224\n",
      "Epoch 39/40\n",
      "60000/60000 [==============================] - 1s 13us/sample - loss: 0.0383 - accuracy: 0.7229s - loss: 0.0382 - accuracy: 0.\n",
      "Epoch 40/40\n",
      "60000/60000 [==============================] - 1s 12us/sample - loss: 0.0382 - accuracy: 0.7233\n",
      "10000/1 - 0s - loss: 0.0341 - accuracy: 0.7301\n"
     ]
    },
    {
     "data": {
      "text/plain": [
       "[0.03737130300402641, 0.7301]"
      ]
     },
     "execution_count": 12,
     "metadata": {},
     "output_type": "execute_result"
    }
   ],
   "source": [
    "# Using Keras\n",
    "# Single layer network architecture, similar to the one used in the previous steps.\n",
    "# Batch=128 SGD\n",
    "import tensorflow as tf\n",
    "\n",
    "\n",
    "model = tf.keras.models.Sequential()\n",
    "model.add(tf.keras.layers.Dense(10, input_shape=(D,), use_bias=False, activation='relu'))\n",
    "model.summary()\n",
    "\n",
    "sgd = tf.keras.optimizers.SGD(learning_rate=0.01)\n",
    "\n",
    "model.compile(optimizer=sgd, loss='mse', metrics=['accuracy'])\n",
    "\n",
    "history2 = model.fit(x_train, y_train, batch_size=128, epochs=40)\n",
    "\n",
    "model.evaluate(x_test,  y_test, verbose=2)"
   ]
  },
  {
   "cell_type": "code",
   "execution_count": 13,
   "metadata": {},
   "outputs": [
    {
     "data": {
      "image/png": "[encoded data removed]",
      "text/plain": [
       "<Figure size 432x288 with 1 Axes>"
      ]
     },
     "metadata": {
      "needs_background": "light"
     },
     "output_type": "display_data"
    }
   ],
   "source": [
    "plot_history(history1.epoch, [history1.history['loss'], history2.history['loss']], \n",
    "             ['full batch', 'batch=128'], 'mse')"
   ]
  },
  {
   "cell_type": "code",
   "execution_count": null,
   "metadata": {},
   "outputs": [],
   "source": []
  }
 ],
 "metadata": {
  "kernelspec": {
   "display_name": "Python 3",
   "language": "python",
   "name": "python3"
  },
  "language_info": {
   "codemirror_mode": {
    "name": "ipython",
    "version": 3
   },
   "file_extension": ".py",
   "mimetype": "text/x-python",
   "name": "python",
   "nbconvert_exporter": "python",
   "pygments_lexer": "ipython3",
   "version": "3.7.3"
  }
 },
 "nbformat": 4,
 "nbformat_minor": 2
}
