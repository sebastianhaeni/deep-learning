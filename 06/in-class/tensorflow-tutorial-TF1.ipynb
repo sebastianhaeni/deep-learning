{
 "cells": [
  {
   "cell_type": "markdown",
   "metadata": {},
   "source": [
    "## Simple graph example"
   ]
  },
  {
   "cell_type": "code",
   "execution_count": null,
   "metadata": {},
   "outputs": [],
   "source": [
    "import numpy as np\n",
    "\n",
    "# simple computational graph - numpy\n",
    "N, D = 3, 4\n",
    "np.random.seed(0)\n",
    "x = np.random.randn(N, D)\n",
    "y = np.random.randn(N, D)\n",
    "z = np.random.randn(N, D)\n",
    "\n",
    "a = x * y  # shape (N, D)\n",
    "b = a + z  # shape (N, D)\n",
    "c = np.sum(b)\n",
    "\n",
    "grad_c = 1.0\n",
    "grad_b = grad_c * np.ones((N,D))\n",
    "grad_a = grad_b.copy()\n",
    "grad_z = grad_b.copy()\n",
    "grad_x = grad_a * y\n",
    "grad_y = grad_a * x\n",
    "\n",
    "print(c)\n",
    "print(grad_x)\n",
    "print(grad_y)\n",
    "print(grad_z)"
   ]
  },
  {
   "cell_type": "code",
   "execution_count": 1,
   "metadata": {},
   "outputs": [
    {
     "name": "stdout",
     "output_type": "stream",
     "text": [
      "WARNING:tensorflow:From /Users/henneber/work/deep-learning-class/venv/lib/python3.7/site-packages/tensorflow_core/python/compat/v2_compat.py:65: disable_resource_variables (from tensorflow.python.ops.variable_scope) is deprecated and will be removed in a future version.\n",
      "Instructions for updating:\n",
      "non-resource variables are not supported in the long term\n",
      "6.7170086\n",
      "[[ 0.7610377   0.12167501  0.44386324  0.33367434]\n",
      " [ 1.4940791  -0.20515826  0.3130677  -0.85409576]\n",
      " [-2.5529897   0.6536186   0.8644362  -0.742165  ]]\n",
      "[[ 1.7640524   0.4001572   0.978738    2.2408931 ]\n",
      " [ 1.867558   -0.9772779   0.95008844 -0.1513572 ]\n",
      " [-0.10321885  0.41059852  0.14404356  1.4542735 ]]\n"
     ]
    }
   ],
   "source": [
    "#TENSORFLOW 1.X\n",
    "import numpy as np\n",
    "import tensorflow.compat.v1 as tf\n",
    "\n",
    "tf.disable_v2_behavior() # to use former syntax of\n",
    "                         # tensorflow 1.X, eg 1.14\n",
    "\n",
    "# simple computational graph with tensorflow \n",
    "N, D = 3, 4\n",
    "np.random.seed(0)\n",
    "x = tf.placeholder(tf.float32, shape=(N, D))\n",
    "y = tf.placeholder(tf.float32, shape=(N, D))\n",
    "z = tf.placeholder(tf.float32, shape=(N, D))\n",
    "\n",
    "a = x * y\n",
    "b = a + z\n",
    "c = tf.reduce_sum(b)\n",
    "\n",
    "grad_x, grad_y, grad_z = tf.gradients(c, [x, y, z])\n",
    "\n",
    "with tf.Session() as sess:\n",
    "    values = {\n",
    "        x: np.random.randn(N, D),\n",
    "        y: np.random.randn(N, D),\n",
    "        z: np.random.randn(N, D)\n",
    "    }\n",
    "    out = sess.run([c, grad_x, grad_y, grad_z], \n",
    "                   feed_dict=values)\n",
    "    c_val, grad_x_val, grad_y_val, grad_z_val = out\n",
    "\n",
    "    print(c_val)\n",
    "    print(grad_x_val)\n",
    "    print(grad_y_val)"
   ]
  },
  {
   "cell_type": "code",
   "execution_count": null,
   "metadata": {},
   "outputs": [],
   "source": [
    "import tensorflow as tf\n",
    "print(\"Num GPUs Available: \", len(tf.config.experimental.list_physical_devices('GPU')))\n",
    "print(\"Num CPUs Available: \", len(tf.config.experimental.list_physical_devices('CPU')))"
   ]
  },
  {
   "cell_type": "code",
   "execution_count": 2,
   "metadata": {
    "scrolled": true
   },
   "outputs": [
    {
     "name": "stdout",
     "output_type": "stream",
     "text": [
      "-3.5299413\n",
      "[[-1.6138978  -0.21274029 -0.89546657  0.3869025 ]\n",
      " [-0.51080513 -1.1806322  -0.02818223  0.42833188]\n",
      " [ 0.06651722  0.3024719  -0.6343221  -0.36274117]]\n",
      "[[ 1.2302907   1.2023798  -0.3873268  -0.30230275]\n",
      " [-1.048553   -1.420018   -1.7062702   1.9507754 ]\n",
      " [-0.5096522  -0.4380743  -1.2527953   0.7774904 ]]\n"
     ]
    }
   ],
   "source": [
    "import numpy as np\n",
    "import tensorflow.compat.v1 as tf\n",
    "\n",
    "tf.disable_v2_behavior() # to use former syntax of\n",
    "                         # tensorflow 1.X, eg 1.14\n",
    "\n",
    "# simple computational graph - tensorflow on gpu\n",
    "N, D = 3, 4\n",
    "with tf.device('/GPU:0'): # '/CPU:0' for cpu exec \n",
    "    x = tf.placeholder(tf.float32, shape=(N, D))\n",
    "    y = tf.placeholder(tf.float32, shape=(N, D))\n",
    "    z = tf.placeholder(tf.float32, shape=(N, D))\n",
    "    a = x * y\n",
    "    b = a + z\n",
    "    c = tf.reduce_sum(b)\n",
    "\n",
    "    grad_x, grad_y, grad_z = tf.gradients(c, [x, y, z])\n",
    "\n",
    "with tf.Session() as sess:\n",
    "    values = {\n",
    "        x: np.random.randn(N, D),\n",
    "        y: np.random.randn(N, D),\n",
    "        z: np.random.randn(N, D)\n",
    "    }\n",
    "    out = sess.run([c, grad_x, grad_y, grad_z],\n",
    "                   feed_dict=values)\n",
    "    c_val, grad_x_val, grad_y_val, grad_z_val = out\n",
    "\n",
    "    print(c_val)\n",
    "    print(grad_x_val)\n",
    "    print(grad_y_val)"
   ]
  },
  {
   "cell_type": "code",
   "execution_count": null,
   "metadata": {},
   "outputs": [],
   "source": [
    "# Just as example to show how it looks in PyTorch \n",
    "# You can skip this cell if you don't want to install PyTorch\n",
    "import torch\n",
    "from torch.autograd import Variable\n",
    "\n",
    "# simple computational graph - torch on gpu\n",
    "N, D = 3, 4\n",
    "\n",
    "x = Variable(torch.randn(N, D).cuda(), \n",
    "             requires_grad=True)\n",
    "y = Variable(torch.randn(N, D).cuda(), \n",
    "             requires_grad=True)\n",
    "z = Variable(torch.randn(N, D).cuda(), \n",
    "             requires_grad=True)\n",
    "\n",
    "a = x * y\n",
    "b = a + z\n",
    "c = torch.sum(b)\n",
    "\n",
    "c.backward()\n",
    "\n",
    "print(x.grad.data)\n",
    "print(y.grad.data)\n",
    "print(z.grad.data)"
   ]
  },
  {
   "cell_type": "markdown",
   "metadata": {},
   "source": [
    "## A more complex example of graph\n",
    "\n",
    "### Utility function - plot history"
   ]
  },
  {
   "cell_type": "code",
   "execution_count": 3,
   "metadata": {},
   "outputs": [],
   "source": [
    "import matplotlib.pyplot as plt\n",
    "\n",
    "def plot_history(epoch_vector, losses_list, name_list, y_label):\n",
    "    # plt.figure(figsize=(12,8))\n",
    "    for i, losses in enumerate(losses_list):\n",
    "        plt.plot(epoch_vector, losses, label=name_list[i])\n",
    "    plt.xlabel('Epochs')\n",
    "    plt.ylabel(y_label)\n",
    "    plt.legend()\n",
    "    plt.show()"
   ]
  },
  {
   "cell_type": "markdown",
   "metadata": {},
   "source": [
    "### Step 0: get some data"
   ]
  },
  {
   "cell_type": "code",
   "execution_count": 4,
   "metadata": {},
   "outputs": [
    {
     "name": "stdout",
     "output_type": "stream",
     "text": [
      "MNIST data set ready. N=60000, D=784, n_classes=10\n"
     ]
    }
   ],
   "source": [
    "# First get some data and prepare it\n",
    "mnist = tf.keras.datasets.mnist\n",
    "(x_train, y_train_vec),(x_test, y_test_vec) = mnist.load_data()\n",
    "x_train, x_test = x_train / 255.0, x_test / 255.0\n",
    "x_train = x_train.reshape(60000, 784)\n",
    "x_test = x_test.reshape(10000, 784)\n",
    "# convert class vectors to binary class matrices\n",
    "y_train = tf.keras.utils.to_categorical(y_train_vec, 10, dtype='float64')\n",
    "y_test = tf.keras.utils.to_categorical(y_test_vec, 10, dtype='float64')\n",
    "N = x_train.shape[0]  # number of samples\n",
    "D = x_train.shape[1]  # dimension of input sample\n",
    "n_classes = y_train.shape[1] # output dim\n",
    "print('MNIST data set ready. N={}, D={}, n_classes={}'.format(N,D,n_classes))"
   ]
  },
  {
   "cell_type": "markdown",
   "metadata": {},
   "source": [
    "### Step 1\n",
    "This graph is actually creating the necessary nodes to:\n",
    "1. Do the forward pass (line 13)\n",
    "2. Compute the MSE loss (lines 14 and 15)\n",
    "3. Compute the gradients of the loss w.r.t. the weights (line 17)\n",
    "\n",
    "In line 23, we init the weights (outside of the graph, using numpy). In line 25 we use the graph, passing the whole train set in the feed_dict (inputs, targets, weight) and getting out of the graph the loss and the gradient values."
   ]
  },
  {
   "cell_type": "code",
   "execution_count": 8,
   "metadata": {},
   "outputs": [
    {
     "name": "stdout",
     "output_type": "stream",
     "text": [
      "113.47453 (1, 784, 10)\n"
     ]
    }
   ],
   "source": [
    "# TensorFlow 1.x - a more complex example\n",
    "# step 1 - forward pass on single layer ANN with ReLu\n",
    "import numpy as np\n",
    "import tensorflow.compat.v1 as tf\n",
    "\n",
    "tf.disable_v2_behavior() # to use former syntax of\n",
    "                         # tensorflow 1.X, eg 1.14\n",
    "\n",
    "x = tf.placeholder(tf.float32, shape=(N, D))\n",
    "y = tf.placeholder(tf.float32, shape=(N, n_classes))\n",
    "w1 = tf.placeholder(tf.float32, shape=(D, n_classes))\n",
    "\n",
    "y_pred = tf.maximum(tf.matmul(x, w1), 0) # ReLU on logit\n",
    "diff = y_pred - y\n",
    "loss = tf.reduce_mean(tf.pow(diff, 2))\n",
    "\n",
    "grad_w1 = tf.gradients(loss, [w1])\n",
    "\n",
    "with tf.Session() as sess:\n",
    "    values = {\n",
    "        x: x_train,\n",
    "        y: y_train,\n",
    "        w1: np.random.randn(D, n_classes)\n",
    "    }\n",
    "    out = sess.run([loss, grad_w1], feed_dict=values)\n",
    "    loss_val, grad_w1_val = out\n",
    "\n",
    "print(loss_val, np.array(grad_w1_val).shape)"
   ]
  },
  {
   "cell_type": "code",
   "execution_count": 11,
   "metadata": {},
   "outputs": [
    {
     "name": "stdout",
     "output_type": "stream",
     "text": [
      "epoch 0 45.029823\n",
      "epoch 1 41.191513\n",
      "epoch 2 37.8147\n",
      "epoch 3 34.834732\n",
      "epoch 4 32.196495\n",
      "epoch 5 29.853277\n",
      "epoch 6 27.765287\n",
      "epoch 7 25.898695\n",
      "epoch 8 24.22463\n",
      "epoch 9 22.71827\n",
      "epoch 10 21.358467\n",
      "epoch 11 20.12718\n",
      "epoch 12 19.008913\n",
      "epoch 13 17.990356\n",
      "epoch 14 17.059958\n",
      "epoch 15 16.20778\n",
      "epoch 16 15.425225\n",
      "epoch 17 14.70484\n",
      "epoch 18 14.040087\n",
      "epoch 19 13.425289\n"
     ]
    },
    {
     "data": {
      "image/png": "[encoded data removed]",
      "text/plain": [
       "<Figure size 432x288 with 1 Axes>"
      ]
     },
     "metadata": {
      "needs_background": "light"
     },
     "output_type": "display_data"
    }
   ],
   "source": [
    "# TensorFlow 1.x - a more complex example\n",
    "# step 2 - training but weights are passing from gpu to cpu\n",
    "import numpy as np\n",
    "import tensorflow.compat.v1 as tf\n",
    "from matplotlib import pyplot as pl\n",
    "\n",
    "tf.disable_v2_behavior() # to use former syntax of\n",
    "                         # tensorflow 1.X, eg 1.14\n",
    "\n",
    "x = tf.placeholder(tf.float32, shape=(N, D))\n",
    "y = tf.placeholder(tf.float32, shape=(N, n_classes))\n",
    "w1 = tf.placeholder(tf.float32, shape=(D, n_classes))\n",
    "\n",
    "y_pred = tf.maximum(tf.matmul(x, w1), 0) # ReLU on logit\n",
    "diff = y_pred - y\n",
    "loss = tf.reduce_mean(tf.pow(diff, 2))\n",
    "\n",
    "grad_w1 = tf.gradients(loss, [w1])[0] # returns a list of\n",
    "                                      # sums of gradients\n",
    "\n",
    "with tf.Session() as sess:\n",
    "    values = {\n",
    "        x: x_train,\n",
    "        y: y_train,\n",
    "        w1: np.random.randn(D, n_classes)\n",
    "    }\n",
    "    alpha = 1e-2\n",
    "    J = []\n",
    "    for epoch in range(20):\n",
    "        out = sess.run([loss, grad_w1], feed_dict=values)\n",
    "        loss_val, grad_w1_val = out\n",
    "        values[w1] -= alpha * grad_w1_val\n",
    "        J.append(loss_val)\n",
    "        print(\"epoch\", epoch, loss_val)\n",
    "    pl.plot(J)"
   ]
  },
  {
   "cell_type": "code",
   "execution_count": 12,
   "metadata": {},
   "outputs": [
    {
     "name": "stdout",
     "output_type": "stream",
     "text": [
      "epoch 0 [12.368187]\n",
      "epoch 1 [12.368187]\n",
      "epoch 2 [12.368187]\n",
      "epoch 3 [12.368187]\n",
      "epoch 4 [12.368187]\n",
      "epoch 5 [12.368187]\n",
      "epoch 6 [12.368187]\n",
      "epoch 7 [12.368187]\n",
      "epoch 8 [12.368187]\n",
      "epoch 9 [12.368187]\n",
      "epoch 10 [12.368187]\n",
      "epoch 11 [12.368187]\n",
      "epoch 12 [12.368187]\n",
      "epoch 13 [12.368187]\n",
      "epoch 14 [12.368187]\n",
      "epoch 15 [12.368187]\n",
      "epoch 16 [12.368187]\n",
      "epoch 17 [12.368187]\n",
      "epoch 18 [12.368187]\n",
      "epoch 19 [12.368187]\n"
     ]
    },
    {
     "data": {
      "image/png": "[encoded data removed]",
      "text/plain": [
       "<Figure size 432x288 with 1 Axes>"
      ]
     },
     "metadata": {
      "needs_background": "light"
     },
     "output_type": "display_data"
    }
   ],
   "source": [
    "# TensorFlow 1.x - a more complex example\n",
    "# step 3 - change weights from placehoders to variables\n",
    "import numpy as np\n",
    "import tensorflow.compat.v1 as tf\n",
    "from matplotlib import pyplot as pl\n",
    "\n",
    "tf.disable_v2_behavior() # to use former syntax of\n",
    "                         # tensorflow 1.X, eg 1.14\n",
    "\n",
    "x = tf.placeholder(tf.float32, shape=(N, D))\n",
    "y = tf.placeholder(tf.float32, shape=(N, n_classes))\n",
    "w1 = tf.Variable(tf.random_normal((D, n_classes)))\n",
    "\n",
    "y_pred = tf.maximum(tf.matmul(x, w1), 0.0) # ReLU on logit\n",
    "diff = y_pred - y\n",
    "loss = tf.reduce_mean(tf.pow(diff, 2))\n",
    "grad_w1 = tf.gradients(loss, [w1])[0] # returns a list of\n",
    "                                      # sums of gradients\n",
    "\n",
    "alpha = 1e-2\n",
    "new_w1 = w1.assign(w1 - alpha * grad_w1)\n",
    "\n",
    "with tf.Session() as sess:\n",
    "    sess.run(tf.global_variables_initializer())\n",
    "    values = { x: x_train, y: y_train}\n",
    "    J = []\n",
    "    for epoch in range(20):\n",
    "        loss_val = sess.run([loss], feed_dict=values)\n",
    "        J.append(loss_val)\n",
    "        print(\"epoch\", epoch, loss_val)\n",
    "    pl.plot(J)"
   ]
  },
  {
   "cell_type": "code",
   "execution_count": 13,
   "metadata": {},
   "outputs": [
    {
     "name": "stdout",
     "output_type": "stream",
     "text": [
      "epoch 0 [38.927338, None]\n",
      "epoch 1 [35.8688, None]\n",
      "epoch 2 [33.151707, None]\n",
      "epoch 3 [30.7304, None]\n",
      "epoch 4 [28.565813, None]\n",
      "epoch 5 [26.624638, None]\n",
      "epoch 6 [24.878517, None]\n",
      "epoch 7 [23.303198, None]\n",
      "epoch 8 [21.877789, None]\n",
      "epoch 9 [20.58452, None]\n",
      "epoch 10 [19.407879, None]\n",
      "epoch 11 [18.334576, None]\n",
      "epoch 12 [17.353045, None]\n",
      "epoch 13 [16.453262, None]\n",
      "epoch 14 [15.626505, None]\n",
      "epoch 15 [14.865137, None]\n",
      "epoch 16 [14.162521, None]\n",
      "epoch 17 [13.512762, None]\n",
      "epoch 18 [12.910674, None]\n",
      "epoch 19 [12.351698, None]\n"
     ]
    },
    {
     "data": {
      "image/png": "[encoded data removed]",
      "text/plain": [
       "<Figure size 432x288 with 1 Axes>"
      ]
     },
     "metadata": {
      "needs_background": "light"
     },
     "output_type": "display_data"
    }
   ],
   "source": [
    "# TensorFlow 1.x - a more complex example\n",
    "# step 3bis - add dummy graph node that depends on updates\n",
    "import numpy as np\n",
    "import tensorflow.compat.v1 as tf\n",
    "from matplotlib import pyplot as pl\n",
    "\n",
    "x = tf.placeholder(tf.float32, shape=(N, D))\n",
    "y = tf.placeholder(tf.float32, shape=(N, n_classes))\n",
    "w1 = tf.Variable(tf.random_normal((D, n_classes)))\n",
    "\n",
    "y_pred = tf.maximum(tf.matmul(x, w1), 0.0) # ReLU on logit\n",
    "diff = y_pred - y\n",
    "loss = tf.reduce_mean(tf.pow(diff, 2))\n",
    "grad_w1 = tf.gradients(loss, [w1])[0] # returns a list of\n",
    "                                      # sums of gradients\n",
    "\n",
    "alpha = 1e-2\n",
    "new_w1 = w1.assign(w1 - alpha * grad_w1)\n",
    "updates = tf.group(new_w1)\n",
    "\n",
    "with tf.Session() as sess:\n",
    "    sess.run(tf.global_variables_initializer())\n",
    "    values = { x: x_train, y: y_train}\n",
    "    J = []\n",
    "    for epoch in range(20):\n",
    "        loss_val = sess.run([loss, updates], feed_dict=values)\n",
    "        J.append(loss_val)\n",
    "        print(\"epoch\", epoch, loss_val)\n",
    "    pl.plot(J)"
   ]
  },
  {
   "cell_type": "code",
   "execution_count": 14,
   "metadata": {},
   "outputs": [
    {
     "name": "stdout",
     "output_type": "stream",
     "text": [
      "epoch 0 [46.827213, None]\n",
      "epoch 1 [42.644684, None]\n",
      "epoch 2 [38.9782, None]\n",
      "epoch 3 [35.75491, None]\n",
      "epoch 4 [32.912727, None]\n",
      "epoch 5 [30.39866, None]\n",
      "epoch 6 [28.167696, None]\n",
      "epoch 7 [26.181576, None]\n",
      "epoch 8 [24.407587, None]\n",
      "epoch 9 [22.818008, None]\n",
      "epoch 10 [21.389126, None]\n",
      "epoch 11 [20.100586, None]\n",
      "epoch 12 [18.935083, None]\n",
      "epoch 13 [17.877697, None]\n",
      "epoch 14 [16.915556, None]\n",
      "epoch 15 [16.0376, None]\n",
      "epoch 16 [15.234237, None]\n",
      "epoch 17 [14.497193, None]\n",
      "epoch 18 [13.81928, None]\n",
      "epoch 19 [13.194253, None]\n"
     ]
    },
    {
     "data": {
      "image/png": "[encoded data removed]",
      "text/plain": [
       "<Figure size 432x288 with 1 Axes>"
      ]
     },
     "metadata": {
      "needs_background": "light"
     },
     "output_type": "display_data"
    }
   ],
   "source": [
    "# TensorFlow 1.x - a more complex example\n",
    "# step 4 - use optimizer and pre-defined loss\n",
    "import numpy as np\n",
    "import tensorflow.compat.v1 as tf\n",
    "from matplotlib import pyplot as pl\n",
    "\n",
    "x = tf.placeholder(tf.float32, shape=(N, D))\n",
    "y = tf.placeholder(tf.float32, shape=(N, n_classes))\n",
    "w1 = tf.Variable(tf.random_normal((D, n_classes)))\n",
    "\n",
    "y_pred = tf.maximum(tf.matmul(x, w1), 0.0) # ReLU on logit\n",
    "diff = y_pred - y\n",
    "loss = tf.losses.mean_squared_error(y_pred, y)\n",
    "\n",
    "optimizer = tf.train.GradientDescentOptimizer(1e-2)\n",
    "updates = optimizer.minimize(loss)\n",
    "\n",
    "with tf.Session() as sess:\n",
    "    sess.run(tf.global_variables_initializer())\n",
    "    values = { x: x_train, y: y_train}\n",
    "    J = []\n",
    "    for epoch in range(20):\n",
    "        loss_val = sess.run([loss, updates], feed_dict=values)\n",
    "        J.append(loss_val)\n",
    "        print(\"epoch\", epoch, loss_val)\n",
    "    pl.plot(J)"
   ]
  },
  {
   "cell_type": "code",
   "execution_count": 15,
   "metadata": {},
   "outputs": [
    {
     "name": "stdout",
     "output_type": "stream",
     "text": [
      "WARNING:tensorflow:From <ipython-input-15-9d9b8addbbe1>:13: dense (from tensorflow.python.layers.core) is deprecated and will be removed in a future version.\n",
      "Instructions for updating:\n",
      "Use keras.layers.Dense instead.\n",
      "WARNING:tensorflow:From /Users/henneber/work/deep-learning-class/venv/lib/python3.7/site-packages/tensorflow_core/python/layers/core.py:187: Layer.apply (from tensorflow.python.keras.engine.base_layer) is deprecated and will be removed in a future version.\n",
      "Instructions for updating:\n",
      "Please use `layer.__call__` method instead.\n",
      "epoch 0 0.22798836\n",
      "epoch 1 0.21367018\n",
      "epoch 2 0.20128179\n",
      "epoch 3 0.19053829\n",
      "epoch 4 0.18119773\n",
      "epoch 5 0.17305447\n",
      "epoch 6 0.1659353\n",
      "epoch 7 0.15969522\n",
      "epoch 8 0.15420502\n",
      "epoch 9 0.1493576\n",
      "epoch 10 0.14506434\n",
      "epoch 11 0.14124972\n",
      "epoch 12 0.13784666\n",
      "epoch 13 0.13480034\n",
      "epoch 14 0.1320666\n",
      "epoch 15 0.12960504\n",
      "epoch 16 0.12737972\n",
      "epoch 17 0.12536213\n",
      "epoch 18 0.12352443\n",
      "epoch 19 0.12184829\n"
     ]
    },
    {
     "data": {
      "image/png": "[encoded data removed]",
      "text/plain": [
       "<Figure size 432x288 with 1 Axes>"
      ]
     },
     "metadata": {
      "needs_background": "light"
     },
     "output_type": "display_data"
    }
   ],
   "source": [
    "# TensorFlow 1.x - a more complex example\n",
    "# step 5 - use layers and initilizer\n",
    "import numpy as np\n",
    "import tensorflow.compat.v1 as tf\n",
    "from matplotlib import pyplot as pl\n",
    "\n",
    "x = tf.placeholder(tf.float32, shape=(N, D))\n",
    "y = tf.placeholder(tf.float32, shape=(N, n_classes))\n",
    "\n",
    "init = tf.variance_scaling_initializer(2.0) # He init\n",
    "y_pred = tf.layers.dense(inputs=x, units=n_classes, \n",
    "                         activation=tf.nn.relu, \n",
    "                         kernel_initializer=init)\n",
    "\n",
    "loss = tf.losses.mean_squared_error(y_pred, y)\n",
    "\n",
    "optimizer = tf.train.GradientDescentOptimizer(1e-2)\n",
    "updates = optimizer.minimize(loss)\n",
    "\n",
    "with tf.Session() as sess:\n",
    "    sess.run(tf.global_variables_initializer())\n",
    "    values = { x: x_train, y: y_train}\n",
    "    J = []\n",
    "    for epoch in range(20):\n",
    "        loss_val = sess.run([loss, updates], \n",
    "                            feed_dict=values)\n",
    "        J.append(loss_val)\n",
    "        print(\"epoch\", epoch, loss_val[0])\n",
    "    pl.plot(J)"
   ]
  },
  {
   "cell_type": "code",
   "execution_count": null,
   "metadata": {},
   "outputs": [],
   "source": []
  }
 ],
 "metadata": {
  "kernelspec": {
   "display_name": "Python 3",
   "language": "python",
   "name": "python3"
  },
  "language_info": {
   "codemirror_mode": {
    "name": "ipython",
    "version": 3
   },
   "file_extension": ".py",
   "mimetype": "text/x-python",
   "name": "python",
   "nbconvert_exporter": "python",
   "pygments_lexer": "ipython3",
   "version": "3.7.3"
  }
 },
 "nbformat": 4,
 "nbformat_minor": 2
}
